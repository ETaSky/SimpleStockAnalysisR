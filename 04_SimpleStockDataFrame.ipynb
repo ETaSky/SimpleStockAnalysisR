{
  "cells": [
    {
      "cell_type": "markdown",
      "source": [
        "# Simple Stock Data Frame"
      ],
      "metadata": {}
    },
    {
      "cell_type": "code",
      "source": [
        "library(quantmod)"
      ],
      "outputs": [
        {
          "output_type": "stream",
          "name": "stderr",
          "text": [
            "Warning message:\n",
            "\"package 'quantmod' was built under R version 3.5.3\"Loading required package: xts\n",
            "Warning message:\n",
            "\"package 'xts' was built under R version 3.5.3\"Loading required package: zoo\n",
            "Warning message:\n",
            "\"package 'zoo' was built under R version 3.5.3\"\n",
            "Attaching package: 'zoo'\n",
            "\n",
            "The following objects are masked from 'package:base':\n",
            "\n",
            "    as.Date, as.Date.numeric\n",
            "\n",
            "Loading required package: TTR\n",
            "Warning message:\n",
            "\"package 'TTR' was built under R version 3.5.3\"Version 0.4-0 included new data defaults. See ?getSymbols.\n"
          ]
        }
      ],
      "execution_count": 1,
      "metadata": {
        "collapsed": false,
        "outputHidden": false,
        "inputHidden": false
      }
    },
    {
      "cell_type": "code",
      "source": [
        "getSymbols('AAPL', src = 'yahoo', from = as.Date('2016-01-01'), to = as.Date('2019-01-01'))"
      ],
      "outputs": [
        {
          "output_type": "stream",
          "name": "stderr",
          "text": [
            "'getSymbols' currently uses auto.assign=TRUE by default, but will\n",
            "use auto.assign=FALSE in 0.5-0. You will still be able to use\n",
            "'loadSymbols' to automatically load data. getOption(\"getSymbols.env\")\n",
            "and getOption(\"getSymbols.auto.assign\") will still be checked for\n",
            "alternate defaults.\n",
            "\n",
            "This message is shown once per session and may be disabled by setting \n",
            "options(\"getSymbols.warning4.0\"=FALSE). See ?getSymbols for details.\n",
            "\n"
          ]
        },
        {
          "output_type": "display_data",
          "data": {
            "text/html": [
              "'AAPL'"
            ],
            "text/markdown": [
              "'AAPL'"
            ],
            "text/latex": [
              "'AAPL'"
            ],
            "text/plain": [
              "[1] \"AAPL\""
            ]
          },
          "metadata": {}
        }
      ],
      "execution_count": 2,
      "metadata": {
        "collapsed": false,
        "outputHidden": false,
        "inputHidden": false
      }
    },
    {
      "cell_type": "code",
      "source": [
        "head(AAPL)"
      ],
      "outputs": [
        {
          "output_type": "display_data",
          "data": {
            "text/plain": [
              "           AAPL.Open AAPL.High AAPL.Low AAPL.Close AAPL.Volume AAPL.Adjusted\n",
              "2016-01-04    102.61    105.37   102.00     105.35    67649400      99.11741\n",
              "2016-01-05    105.75    105.85   102.41     102.71    55791000      96.63358\n",
              "2016-01-06    100.56    102.37    99.87     100.70    68457400      94.74249\n",
              "2016-01-07     98.68    100.13    96.43      96.45    81094400      90.74394\n",
              "2016-01-08     98.55     99.11    96.76      96.96    70798000      91.22377\n",
              "2016-01-11     98.97     99.06    97.34      98.53    49739400      92.70087"
            ]
          },
          "metadata": {}
        }
      ],
      "execution_count": 3,
      "metadata": {
        "collapsed": false,
        "outputHidden": false,
        "inputHidden": false
      }
    },
    {
      "cell_type": "code",
      "source": [
        "# Calculate Daily Returns\n",
        "AAPL$AAPL.Returns <-  diff(log(AAPL[,6]))"
      ],
      "outputs": [],
      "execution_count": 4,
      "metadata": {
        "collapsed": false,
        "outputHidden": false,
        "inputHidden": false
      }
    },
    {
      "cell_type": "code",
      "source": [
        "head(AAPL)"
      ],
      "outputs": [
        {
          "output_type": "display_data",
          "data": {
            "text/plain": [
              "           AAPL.Open AAPL.High AAPL.Low AAPL.Close AAPL.Volume AAPL.Adjusted\n",
              "2016-01-04    102.61    105.37   102.00     105.35    67649400      99.11741\n",
              "2016-01-05    105.75    105.85   102.41     102.71    55791000      96.63358\n",
              "2016-01-06    100.56    102.37    99.87     100.70    68457400      94.74249\n",
              "2016-01-07     98.68    100.13    96.43      96.45    81094400      90.74394\n",
              "2016-01-08     98.55     99.11    96.76      96.96    70798000      91.22377\n",
              "2016-01-11     98.97     99.06    97.34      98.53    49739400      92.70087\n",
              "           AAPL.Returns\n",
              "2016-01-04           NA\n",
              "2016-01-05 -0.025378766\n",
              "2016-01-06 -0.019763804\n",
              "2016-01-07 -0.043120811\n",
              "2016-01-08  0.005273783\n",
              "2016-01-11  0.016062326"
            ]
          },
          "metadata": {}
        }
      ],
      "execution_count": 5,
      "metadata": {
        "collapsed": false,
        "outputHidden": false,
        "inputHidden": false
      }
    },
    {
      "cell_type": "code",
      "source": [
        "tail(AAPL)"
      ],
      "outputs": [
        {
          "output_type": "display_data",
          "data": {
            "text/plain": [
              "           AAPL.Open AAPL.High AAPL.Low AAPL.Close AAPL.Volume AAPL.Adjusted\n",
              "2018-12-21    156.86    158.16   149.63     150.73    95744600      149.5105\n",
              "2018-12-24    148.15    151.55   146.59     146.83    37169200      145.6421\n",
              "2018-12-26    148.30    157.23   146.72     157.17    58582500      155.8984\n",
              "2018-12-27    155.84    156.77   150.07     156.15    53117100      154.8867\n",
              "2018-12-28    157.50    158.52   154.55     156.23    42291400      154.9660\n",
              "2018-12-31    158.53    159.36   156.48     157.74    35003500      156.4638\n",
              "           AAPL.Returns\n",
              "2018-12-21 -0.039672227\n",
              "2018-12-24 -0.026214745\n",
              "2018-12-26  0.068052583\n",
              "2018-12-27 -0.006510952\n",
              "2018-12-28  0.000512153\n",
              "2018-12-31  0.009618952"
            ]
          },
          "metadata": {}
        }
      ],
      "execution_count": 6,
      "metadata": {
        "collapsed": false,
        "outputHidden": false,
        "inputHidden": false
      }
    },
    {
      "cell_type": "code",
      "source": [
        "str(AAPL)"
      ],
      "outputs": [
        {
          "output_type": "stream",
          "name": "stdout",
          "text": [
            "An 'xts' object on 2016-01-04/2018-12-31 containing:\n",
            "  Data: num [1:754, 1:7] 102.6 105.8 100.6 98.7 98.6 ...\n",
            " - attr(*, \"dimnames\")=List of 2\n",
            "  ..$ : NULL\n",
            "  ..$ : chr [1:7] \"AAPL.Open\" \"AAPL.High\" \"AAPL.Low\" \"AAPL.Close\" ...\n",
            "  Indexed by objects of class: [Date] TZ: UTC\n",
            "  xts Attributes:  \n",
            "List of 2\n",
            " $ src    : chr \"yahoo\"\n",
            " $ updated: POSIXct[1:1], format: \"2019-05-10 20:33:25\"\n"
          ]
        }
      ],
      "execution_count": 7,
      "metadata": {
        "collapsed": false,
        "outputHidden": false,
        "inputHidden": false
      }
    },
    {
      "cell_type": "code",
      "source": [
        "AAPL <- na.omit(AAPL)"
      ],
      "outputs": [],
      "execution_count": 8,
      "metadata": {
        "collapsed": false,
        "outputHidden": false,
        "inputHidden": false
      }
    },
    {
      "cell_type": "code",
      "source": [
        "head(AAPL)"
      ],
      "outputs": [
        {
          "output_type": "display_data",
          "data": {
            "text/plain": [
              "           AAPL.Open AAPL.High AAPL.Low AAPL.Close AAPL.Volume AAPL.Adjusted\n",
              "2016-01-05    105.75    105.85   102.41     102.71    55791000      96.63358\n",
              "2016-01-06    100.56    102.37    99.87     100.70    68457400      94.74249\n",
              "2016-01-07     98.68    100.13    96.43      96.45    81094400      90.74394\n",
              "2016-01-08     98.55     99.11    96.76      96.96    70798000      91.22377\n",
              "2016-01-11     98.97     99.06    97.34      98.53    49739400      92.70087\n",
              "2016-01-12    100.55    100.69    98.84      99.96    49154200      94.04627\n",
              "           AAPL.Returns\n",
              "2016-01-05 -0.025378766\n",
              "2016-01-06 -0.019763804\n",
              "2016-01-07 -0.043120811\n",
              "2016-01-08  0.005273783\n",
              "2016-01-11  0.016062326\n",
              "2016-01-12  0.014409091"
            ]
          },
          "metadata": {}
        }
      ],
      "execution_count": 9,
      "metadata": {
        "collapsed": false,
        "outputHidden": false,
        "inputHidden": false
      }
    },
    {
      "cell_type": "markdown",
      "source": [
        "### Calculate Moving Average Indicator"
      ],
      "metadata": {}
    },
    {
      "cell_type": "code",
      "source": [
        "# Add in dataframe\n",
        "AAPL$SMA <- SMA(AAPL$AAPL.Adjusted, n=5)"
      ],
      "outputs": [],
      "execution_count": 10,
      "metadata": {
        "collapsed": false,
        "outputHidden": false,
        "inputHidden": false
      }
    },
    {
      "cell_type": "code",
      "source": [
        "head(AAPL)"
      ],
      "outputs": [
        {
          "output_type": "display_data",
          "data": {
            "text/plain": [
              "           AAPL.Open AAPL.High AAPL.Low AAPL.Close AAPL.Volume AAPL.Adjusted\n",
              "2016-01-05    105.75    105.85   102.41     102.71    55791000      96.63358\n",
              "2016-01-06    100.56    102.37    99.87     100.70    68457400      94.74249\n",
              "2016-01-07     98.68    100.13    96.43      96.45    81094400      90.74394\n",
              "2016-01-08     98.55     99.11    96.76      96.96    70798000      91.22377\n",
              "2016-01-11     98.97     99.06    97.34      98.53    49739400      92.70087\n",
              "2016-01-12    100.55    100.69    98.84      99.96    49154200      94.04627\n",
              "           AAPL.Returns      SMA\n",
              "2016-01-05 -0.025378766       NA\n",
              "2016-01-06 -0.019763804       NA\n",
              "2016-01-07 -0.043120811       NA\n",
              "2016-01-08  0.005273783       NA\n",
              "2016-01-11  0.016062326 93.20893\n",
              "2016-01-12  0.014409091 92.69147"
            ]
          },
          "metadata": {}
        }
      ],
      "execution_count": 11,
      "metadata": {
        "collapsed": false,
        "outputHidden": false,
        "inputHidden": false
      }
    },
    {
      "cell_type": "code",
      "source": [
        "summary(AAPL)"
      ],
      "outputs": [
        {
          "output_type": "display_data",
          "data": {
            "text/plain": [
              "     Index              AAPL.Open       AAPL.High         AAPL.Low     \n",
              " Min.   :2016-01-05   Min.   : 90.0   Min.   : 91.67   Min.   : 89.47  \n",
              " 1st Qu.:2016-10-03   1st Qu.:110.4   1st Qu.:111.72   1st Qu.:109.70  \n",
              " Median :2017-07-03   Median :151.8   Median :153.84   Median :149.95  \n",
              " Mean   :2017-07-02   Mean   :148.0   Mean   :149.28   Mean   :146.79  \n",
              " 3rd Qu.:2018-04-03   3rd Qu.:174.6   3rd Qu.:175.39   3rd Qu.:173.25  \n",
              " Max.   :2018-12-31   Max.   :230.8   Max.   :233.47   Max.   :229.78  \n",
              "                                                                       \n",
              "   AAPL.Close      AAPL.Volume        AAPL.Adjusted     AAPL.Returns       \n",
              " Min.   : 90.34   Min.   : 11475900   Min.   : 85.98   Min.   :-0.0686330  \n",
              " 1st Qu.:111.03   1st Qu.: 23319600   1st Qu.:106.19   1st Qu.:-0.0055921  \n",
              " Median :152.09   Median : 28912100   Median :147.90   Median : 0.0006664  \n",
              " Mean   :148.07   Mean   : 33148310   Mean   :144.01   Mean   : 0.0006063  \n",
              " 3rd Qu.:174.67   3rd Qu.: 38398500   3rd Qu.:170.98   3rd Qu.: 0.0080133  \n",
              " Max.   :232.07   Max.   :133369700   Max.   :229.39   Max.   : 0.0680526  \n",
              "                                                                           \n",
              "      SMA        \n",
              " Min.   : 87.48  \n",
              " 1st Qu.:106.20  \n",
              " Median :147.62  \n",
              " Mean   :144.11  \n",
              " 3rd Qu.:170.69  \n",
              " Max.   :225.83  \n",
              " NA's   :4       "
            ]
          },
          "metadata": {}
        }
      ],
      "execution_count": 12,
      "metadata": {
        "collapsed": false,
        "outputHidden": false,
        "inputHidden": false
      }
    },
    {
      "cell_type": "markdown",
      "source": [
        "## Example Create Data Frame"
      ],
      "metadata": {}
    },
    {
      "cell_type": "code",
      "source": [
        "stocks.data <- data.frame(\n",
        "   stock_id = c (1:5),\n",
        "   stock_name = c(\"Apple\",\"Intel\",\"AMD\",\"Tesla\",\"Nvidia\"),\n",
        "   stock_capital = c(907.241,206.837,30.242,42.253,102.726), # In billions\n",
        "   stock_price = c(197.18,46.20,27.96,239.52,168.82),\n",
        "   stringsAsFactors = FALSE\n",
        ")"
      ],
      "outputs": [],
      "execution_count": 13,
      "metadata": {
        "collapsed": false,
        "outputHidden": false,
        "inputHidden": false
      }
    },
    {
      "cell_type": "code",
      "source": [
        "print(stocks.data)"
      ],
      "outputs": [
        {
          "output_type": "stream",
          "name": "stdout",
          "text": [
            "  stock_id stock_name stock_capital stock_price\n",
            "1        1      Apple       907.241      197.18\n",
            "2        2      Intel       206.837       46.20\n",
            "3        3        AMD        30.242       27.96\n",
            "4        4      Tesla        42.253      239.52\n",
            "5        5     Nvidia       102.726      168.82\n"
          ]
        }
      ],
      "execution_count": 14,
      "metadata": {
        "collapsed": false,
        "outputHidden": false,
        "inputHidden": false
      }
    },
    {
      "cell_type": "code",
      "source": [
        "# Add columns\n",
        "stocks.data$stock_sector <- c(\"Technology\",\"Technology\",\"Technology\",\"Consumer Cyclical\",\"Technology\")"
      ],
      "outputs": [],
      "execution_count": 15,
      "metadata": {
        "collapsed": false,
        "outputHidden": false,
        "inputHidden": false
      }
    },
    {
      "cell_type": "code",
      "source": [
        "c <- stocks.data\n",
        "print(c)"
      ],
      "outputs": [
        {
          "output_type": "stream",
          "name": "stdout",
          "text": [
            "  stock_id stock_name stock_capital stock_price      stock_sector\n",
            "1        1      Apple       907.241      197.18        Technology\n",
            "2        2      Intel       206.837       46.20        Technology\n",
            "3        3        AMD        30.242       27.96        Technology\n",
            "4        4      Tesla        42.253      239.52 Consumer Cyclical\n",
            "5        5     Nvidia       102.726      168.82        Technology\n"
          ]
        }
      ],
      "execution_count": 16,
      "metadata": {
        "collapsed": false,
        "outputHidden": false,
        "inputHidden": false
      }
    },
    {
      "cell_type": "code",
      "source": [
        "# Add rows\n",
        "# Create new dataframe\n",
        "stocks.newdata <- data.frame(\n",
        "   stock_id = c (6:8), \n",
        "   stock_name = c(\"Goldman Sachs\",\"Bank of America\",\"Netflix\"),\n",
        "   stock_capital = c(73.918,281.253,632.8), \n",
        "   stock_price = c(202.05,29.58,157.854),\n",
        "   stock_sector = c(\"Financial Services\",\"Financial Services\",\"Consumer Cyclical\"),\n",
        "   stringsAsFactors = FALSE\n",
        ")"
      ],
      "outputs": [],
      "execution_count": 17,
      "metadata": {
        "collapsed": false,
        "outputHidden": false,
        "inputHidden": false
      }
    },
    {
      "cell_type": "code",
      "source": [
        "# Bind the two data frames\n",
        "stocks.finaldata <- rbind(stocks.data,stocks.newdata)\n",
        "print(stocks.finaldata)"
      ],
      "outputs": [
        {
          "output_type": "stream",
          "name": "stdout",
          "text": [
            "  stock_id      stock_name stock_capital stock_price       stock_sector\n",
            "1        1           Apple       907.241     197.180         Technology\n",
            "2        2           Intel       206.837      46.200         Technology\n",
            "3        3             AMD        30.242      27.960         Technology\n",
            "4        4           Tesla        42.253     239.520  Consumer Cyclical\n",
            "5        5          Nvidia       102.726     168.820         Technology\n",
            "6        6   Goldman Sachs        73.918     202.050 Financial Services\n",
            "7        7 Bank of America       281.253      29.580 Financial Services\n",
            "8        8         Netflix       632.800     157.854  Consumer Cyclical\n"
          ]
        }
      ],
      "execution_count": 18,
      "metadata": {
        "collapsed": false,
        "outputHidden": false,
        "inputHidden": false
      }
    }
  ],
  "metadata": {
    "kernel_info": {
      "name": "ir"
    },
    "language_info": {
      "name": "R",
      "codemirror_mode": "r",
      "pygments_lexer": "r",
      "mimetype": "text/x-r-source",
      "file_extension": ".r",
      "version": "3.5.2"
    },
    "kernelspec": {
      "name": "ir",
      "language": "R",
      "display_name": "R"
    },
    "nteract": {
      "version": "0.15.0"
    }
  },
  "nbformat": 4,
  "nbformat_minor": 0
}