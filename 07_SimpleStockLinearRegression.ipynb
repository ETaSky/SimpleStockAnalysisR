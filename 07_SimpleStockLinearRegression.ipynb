{
  "cells": [
    {
      "cell_type": "markdown",
      "source": [
        "# Simple Stock Linear Regression"
      ],
      "metadata": {}
    },
    {
      "cell_type": "code",
      "source": [
        "library(quantmod)"
      ],
      "outputs": [
        {
          "output_type": "stream",
          "name": "stderr",
          "text": [
            "Warning message:\n",
            "\"package 'quantmod' was built under R version 3.6.3\"Loading required package: xts\n",
            "Warning message:\n",
            "\"package 'xts' was built under R version 3.6.3\"Loading required package: zoo\n",
            "Warning message:\n",
            "\"package 'zoo' was built under R version 3.6.3\"\n",
            "Attaching package: 'zoo'\n",
            "\n",
            "The following objects are masked from 'package:base':\n",
            "\n",
            "    as.Date, as.Date.numeric\n",
            "\n",
            "Loading required package: TTR\n",
            "Warning message:\n",
            "\"package 'TTR' was built under R version 3.6.3\"Registered S3 method overwritten by 'quantmod':\n",
            "  method            from\n",
            "  as.zoo.data.frame zoo \n"
          ]
        }
      ],
      "execution_count": 1,
      "metadata": {
        "collapsed": false,
        "outputHidden": false,
        "inputHidden": false,
        "execution": {
          "iopub.status.busy": "2021-07-08T01:47:00.881Z",
          "iopub.execute_input": "2021-07-08T01:47:00.885Z",
          "iopub.status.idle": "2021-07-08T01:47:00.964Z",
          "shell.execute_reply": "2021-07-08T01:47:00.959Z"
        }
      }
    },
    {
      "cell_type": "code",
      "source": [
        "getSymbols('AAPL', src = 'yahoo', from = as.Date('2016-01-01'), to = as.Date('2019-01-01'))"
      ],
      "outputs": [
        {
          "output_type": "stream",
          "name": "stderr",
          "text": [
            "'getSymbols' currently uses auto.assign=TRUE by default, but will\n",
            "use auto.assign=FALSE in 0.5-0. You will still be able to use\n",
            "'loadSymbols' to automatically load data. getOption(\"getSymbols.env\")\n",
            "and getOption(\"getSymbols.auto.assign\") will still be checked for\n",
            "alternate defaults.\n",
            "\n",
            "This message is shown once per session and may be disabled by setting \n",
            "options(\"getSymbols.warning4.0\"=FALSE). See ?getSymbols for details.\n",
            "\n"
          ]
        },
        {
          "output_type": "display_data",
          "data": {
            "text/html": "'AAPL'",
            "text/markdown": "'AAPL'",
            "text/latex": "'AAPL'",
            "text/plain": "[1] \"AAPL\""
          },
          "metadata": {}
        }
      ],
      "execution_count": 2,
      "metadata": {
        "collapsed": false,
        "outputHidden": false,
        "inputHidden": false,
        "execution": {
          "iopub.status.busy": "2021-07-08T01:47:00.969Z",
          "iopub.execute_input": "2021-07-08T01:47:00.980Z",
          "shell.execute_reply": "2021-07-08T01:47:02.152Z",
          "iopub.status.idle": "2021-07-08T01:47:02.158Z"
        }
      }
    },
    {
      "cell_type": "code",
      "source": [
        "head(AAPL)"
      ],
      "outputs": [
        {
          "output_type": "display_data",
          "data": {
            "text/plain": "           AAPL.Open AAPL.High AAPL.Low AAPL.Close AAPL.Volume AAPL.Adjusted\n2016-01-04   25.6525   26.3425  25.5000    26.3375   270597600      24.32322\n2016-01-05   26.4375   26.4625  25.6025    25.6775   223164000      23.71370\n2016-01-06   25.1400   25.5925  24.9675    25.1750   273829600      23.24963\n2016-01-07   24.6700   25.0325  24.1075    24.1125   324377600      22.26838\n2016-01-08   24.6375   24.7775  24.1900    24.2400   283192000      22.38613\n2016-01-11   24.7425   24.7650  24.3350    24.6325   198957600      22.74862"
          },
          "metadata": {}
        }
      ],
      "execution_count": 3,
      "metadata": {
        "collapsed": false,
        "outputHidden": false,
        "inputHidden": false,
        "execution": {
          "iopub.status.busy": "2021-07-08T01:47:02.163Z",
          "iopub.execute_input": "2021-07-08T01:47:02.166Z",
          "iopub.status.idle": "2021-07-08T01:47:02.174Z",
          "shell.execute_reply": "2021-07-08T01:47:02.207Z"
        }
      }
    },
    {
      "cell_type": "code",
      "source": [
        "tail(AAPL)"
      ],
      "outputs": [
        {
          "output_type": "display_data",
          "data": {
            "text/plain": "           AAPL.Open AAPL.High AAPL.Low AAPL.Close AAPL.Volume AAPL.Adjusted\n2018-12-21   39.2150   39.5400  37.4075    37.6825   382978400      36.68959\n2018-12-24   37.0375   37.8875  36.6475    36.7075   148676800      35.74028\n2018-12-26   37.0750   39.3075  36.6800    39.2925   234330000      38.25717\n2018-12-27   38.9600   39.1925  37.5175    39.0375   212468400      38.00889\n2018-12-28   39.3750   39.6300  38.6375    39.0575   169165600      38.02837\n2018-12-31   39.6325   39.8400  39.1200    39.4350   140014000      38.39592"
          },
          "metadata": {}
        }
      ],
      "execution_count": 4,
      "metadata": {
        "collapsed": false,
        "outputHidden": false,
        "inputHidden": false,
        "execution": {
          "iopub.status.busy": "2021-07-08T01:47:02.178Z",
          "iopub.execute_input": "2021-07-08T01:47:02.181Z",
          "iopub.status.idle": "2021-07-08T01:47:02.189Z",
          "shell.execute_reply": "2021-07-08T01:47:02.210Z"
        }
      }
    },
    {
      "cell_type": "code",
      "source": [
        "Stock <- AAPL\n",
        "Stock = data.frame(AAPL)\n",
        "head(Stock)"
      ],
      "outputs": [
        {
          "output_type": "display_data",
          "data": {
            "text/html": "<table class=\"dataframe\">\n<caption>A data.frame: 6 × 6</caption>\n<thead>\n\t<tr><th></th><th scope=col>AAPL.Open</th><th scope=col>AAPL.High</th><th scope=col>AAPL.Low</th><th scope=col>AAPL.Close</th><th scope=col>AAPL.Volume</th><th scope=col>AAPL.Adjusted</th></tr>\n\t<tr><th></th><th scope=col>&lt;dbl&gt;</th><th scope=col>&lt;dbl&gt;</th><th scope=col>&lt;dbl&gt;</th><th scope=col>&lt;dbl&gt;</th><th scope=col>&lt;dbl&gt;</th><th scope=col>&lt;dbl&gt;</th></tr>\n</thead>\n<tbody>\n\t<tr><th scope=row>2016-01-04</th><td>25.6525</td><td>26.3425</td><td>25.5000</td><td>26.3375</td><td>270597600</td><td>24.32322</td></tr>\n\t<tr><th scope=row>2016-01-05</th><td>26.4375</td><td>26.4625</td><td>25.6025</td><td>25.6775</td><td>223164000</td><td>23.71370</td></tr>\n\t<tr><th scope=row>2016-01-06</th><td>25.1400</td><td>25.5925</td><td>24.9675</td><td>25.1750</td><td>273829600</td><td>23.24963</td></tr>\n\t<tr><th scope=row>2016-01-07</th><td>24.6700</td><td>25.0325</td><td>24.1075</td><td>24.1125</td><td>324377600</td><td>22.26838</td></tr>\n\t<tr><th scope=row>2016-01-08</th><td>24.6375</td><td>24.7775</td><td>24.1900</td><td>24.2400</td><td>283192000</td><td>22.38613</td></tr>\n\t<tr><th scope=row>2016-01-11</th><td>24.7425</td><td>24.7650</td><td>24.3350</td><td>24.6325</td><td>198957600</td><td>22.74862</td></tr>\n</tbody>\n</table>\n",
            "text/markdown": "\nA data.frame: 6 × 6\n\n| <!--/--> | AAPL.Open &lt;dbl&gt; | AAPL.High &lt;dbl&gt; | AAPL.Low &lt;dbl&gt; | AAPL.Close &lt;dbl&gt; | AAPL.Volume &lt;dbl&gt; | AAPL.Adjusted &lt;dbl&gt; |\n|---|---|---|---|---|---|---|\n| 2016-01-04 | 25.6525 | 26.3425 | 25.5000 | 26.3375 | 270597600 | 24.32322 |\n| 2016-01-05 | 26.4375 | 26.4625 | 25.6025 | 25.6775 | 223164000 | 23.71370 |\n| 2016-01-06 | 25.1400 | 25.5925 | 24.9675 | 25.1750 | 273829600 | 23.24963 |\n| 2016-01-07 | 24.6700 | 25.0325 | 24.1075 | 24.1125 | 324377600 | 22.26838 |\n| 2016-01-08 | 24.6375 | 24.7775 | 24.1900 | 24.2400 | 283192000 | 22.38613 |\n| 2016-01-11 | 24.7425 | 24.7650 | 24.3350 | 24.6325 | 198957600 | 22.74862 |\n\n",
            "text/latex": "A data.frame: 6 × 6\n\\begin{tabular}{r|llllll}\n  & AAPL.Open & AAPL.High & AAPL.Low & AAPL.Close & AAPL.Volume & AAPL.Adjusted\\\\\n  & <dbl> & <dbl> & <dbl> & <dbl> & <dbl> & <dbl>\\\\\n\\hline\n\t2016-01-04 & 25.6525 & 26.3425 & 25.5000 & 26.3375 & 270597600 & 24.32322\\\\\n\t2016-01-05 & 26.4375 & 26.4625 & 25.6025 & 25.6775 & 223164000 & 23.71370\\\\\n\t2016-01-06 & 25.1400 & 25.5925 & 24.9675 & 25.1750 & 273829600 & 23.24963\\\\\n\t2016-01-07 & 24.6700 & 25.0325 & 24.1075 & 24.1125 & 324377600 & 22.26838\\\\\n\t2016-01-08 & 24.6375 & 24.7775 & 24.1900 & 24.2400 & 283192000 & 22.38613\\\\\n\t2016-01-11 & 24.7425 & 24.7650 & 24.3350 & 24.6325 & 198957600 & 22.74862\\\\\n\\end{tabular}\n",
            "text/plain": "           AAPL.Open AAPL.High AAPL.Low AAPL.Close AAPL.Volume AAPL.Adjusted\n2016-01-04 25.6525   26.3425   25.5000  26.3375    270597600   24.32322     \n2016-01-05 26.4375   26.4625   25.6025  25.6775    223164000   23.71370     \n2016-01-06 25.1400   25.5925   24.9675  25.1750    273829600   23.24963     \n2016-01-07 24.6700   25.0325   24.1075  24.1125    324377600   22.26838     \n2016-01-08 24.6375   24.7775   24.1900  24.2400    283192000   22.38613     \n2016-01-11 24.7425   24.7650   24.3350  24.6325    198957600   22.74862     "
          },
          "metadata": {}
        }
      ],
      "execution_count": 5,
      "metadata": {
        "collapsed": false,
        "outputHidden": false,
        "inputHidden": false,
        "execution": {
          "iopub.status.busy": "2021-07-08T01:47:02.194Z",
          "iopub.execute_input": "2021-07-08T01:47:02.196Z",
          "iopub.status.idle": "2021-07-08T01:47:02.250Z",
          "shell.execute_reply": "2021-07-08T01:47:02.246Z"
        }
      }
    },
    {
      "cell_type": "code",
      "source": [
        "x <- Stock$AAPL.Open\n",
        "y <- Stock$AAPL.Adjusted"
      ],
      "outputs": [],
      "execution_count": 6,
      "metadata": {
        "collapsed": false,
        "outputHidden": false,
        "inputHidden": false,
        "execution": {
          "iopub.status.busy": "2021-07-08T01:47:02.256Z",
          "iopub.execute_input": "2021-07-08T01:47:02.259Z",
          "iopub.status.idle": "2021-07-08T01:47:02.263Z",
          "shell.execute_reply": "2021-07-08T01:47:02.296Z"
        }
      }
    },
    {
      "cell_type": "code",
      "source": [
        "relationship <- lm(y~x)\n",
        "print(relationship)"
      ],
      "outputs": [
        {
          "output_type": "stream",
          "name": "stdout",
          "text": [
            "\n",
            "Call:\n",
            "lm(formula = y ~ x)\n",
            "\n",
            "Coefficients:\n",
            "(Intercept)            x  \n",
            "     -1.717        1.001  \n",
            "\n"
          ]
        }
      ],
      "execution_count": 7,
      "metadata": {
        "collapsed": false,
        "outputHidden": false,
        "inputHidden": false,
        "execution": {
          "iopub.status.busy": "2021-07-08T01:47:02.268Z",
          "iopub.execute_input": "2021-07-08T01:47:02.270Z",
          "iopub.status.idle": "2021-07-08T01:47:02.278Z",
          "shell.execute_reply": "2021-07-08T01:47:02.299Z"
        }
      }
    },
    {
      "cell_type": "code",
      "source": [
        "# Find Closing Price with Low Price of 180\n",
        "a <- data.frame(x = 180)\n",
        "result <- predict(relationship,a)\n",
        "print(result)"
      ],
      "outputs": [
        {
          "output_type": "stream",
          "name": "stdout",
          "text": [
            "       1 \n",
            "178.5278 \n"
          ]
        }
      ],
      "execution_count": 8,
      "metadata": {
        "collapsed": false,
        "outputHidden": false,
        "inputHidden": false,
        "execution": {
          "iopub.status.busy": "2021-07-08T01:47:02.282Z",
          "iopub.execute_input": "2021-07-08T01:47:02.285Z",
          "iopub.status.idle": "2021-07-08T01:47:02.304Z",
          "shell.execute_reply": "2021-07-08T01:47:02.301Z"
        }
      }
    },
    {
      "cell_type": "code",
      "source": [
        "# Plot Chart\n",
        "plot(y,x, col = 'blue', main = \"Low & Closing Price Regression\", abline(lm(x~y)),cex=0.5, pch=16, xlab = 'Low Price', ylab = 'Adj Closing Price')\n",
        "\n"
      ],
      "outputs": [
        {
          "output_type": "display_data",
          "data": {
            "text/plain": "Plot with title \"Low & Closing Price Regression\"",
            "image/png": "[encoded data removed]"
          },
          "metadata": {}
        }
      ],
      "execution_count": 9,
      "metadata": {
        "collapsed": false,
        "outputHidden": false,
        "inputHidden": false,
        "execution": {
          "iopub.status.busy": "2021-07-08T01:47:02.308Z",
          "iopub.execute_input": "2021-07-08T01:47:02.311Z",
          "iopub.status.idle": "2021-07-08T01:47:02.353Z",
          "shell.execute_reply": "2021-07-08T01:47:02.368Z"
        }
      }
    }
  ],
  "metadata": {
    "kernel_info": {
      "name": "ir"
    },
    "language_info": {
      "name": "R",
      "codemirror_mode": "r",
      "pygments_lexer": "r",
      "mimetype": "text/x-r-source",
      "file_extension": ".r",
      "version": "3.6.1"
    },
    "kernelspec": {
      "name": "ir",
      "language": "R",
      "display_name": "R"
    },
    "nteract": {
      "version": "0.28.0"
    }
  },
  "nbformat": 4,
  "nbformat_minor": 0
}