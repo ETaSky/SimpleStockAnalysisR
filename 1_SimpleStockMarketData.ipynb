{
  "cells": [
    {
      "cell_type": "markdown",
      "source": [
        "# Stock Market Data"
      ],
      "metadata": {}
    },
    {
      "cell_type": "code",
      "source": [
        "library(data.table)"
      ],
      "outputs": [],
      "execution_count": 1,
      "metadata": {
        "collapsed": false,
        "outputHidden": false,
        "inputHidden": false,
        "execution": {
          "iopub.status.busy": "2020-06-09T00:51:55.270Z",
          "iopub.execute_input": "2020-06-09T00:51:55.284Z",
          "shell.execute_reply": "2020-06-09T00:51:55.203Z",
          "iopub.status.idle": "2020-06-09T00:51:55.294Z"
        }
      }
    },
    {
      "cell_type": "markdown",
      "source": [
        "## Download stock historical from yahoo website\n",
        "## Read CSV file"
      ],
      "metadata": {}
    },
    {
      "cell_type": "code",
      "source": [
        "AAPL <- read.csv('C:/Users/Tin Hang/Desktop/WorkingOnPython/SimpleStocksR/AAPL.csv')"
      ],
      "outputs": [],
      "execution_count": 2,
      "metadata": {
        "collapsed": false,
        "outputHidden": false,
        "inputHidden": false,
        "execution": {
          "shell.execute_reply": "2020-06-09T00:51:55.215Z",
          "iopub.status.busy": "2020-06-09T00:51:55.313Z",
          "iopub.execute_input": "2020-06-09T00:51:55.324Z",
          "iopub.status.idle": "2020-06-09T00:51:55.334Z"
        }
      }
    },
    {
      "cell_type": "code",
      "source": [
        "head(AAPL)"
      ],
      "outputs": [
        {
          "output_type": "display_data",
          "data": {
            "text/html": [
              "<table>\n",
              "<caption>A data.frame: 6 × 7</caption>\n",
              "<thead>\n",
              "\t<tr><th scope=col>Date</th><th scope=col>Open</th><th scope=col>High</th><th scope=col>Low</th><th scope=col>Close</th><th scope=col>Adj.Close</th><th scope=col>Volume</th></tr>\n",
              "\t<tr><th scope=col>&lt;fct&gt;</th><th scope=col>&lt;dbl&gt;</th><th scope=col>&lt;dbl&gt;</th><th scope=col>&lt;dbl&gt;</th><th scope=col>&lt;dbl&gt;</th><th scope=col>&lt;dbl&gt;</th><th scope=col>&lt;int&gt;</th></tr>\n",
              "</thead>\n",
              "<tbody>\n",
              "\t<tr><td>2016-01-04</td><td>102.61</td><td>105.37</td><td>102.00</td><td>105.35</td><td>99.49911</td><td>67649400</td></tr>\n",
              "\t<tr><td>2016-01-05</td><td>105.75</td><td>105.85</td><td>102.41</td><td>102.71</td><td>97.00573</td><td>55791000</td></tr>\n",
              "\t<tr><td>2016-01-06</td><td>100.56</td><td>102.37</td><td> 99.87</td><td>100.70</td><td>95.10736</td><td>68457400</td></tr>\n",
              "\t<tr><td>2016-01-07</td><td> 98.68</td><td>100.13</td><td> 96.43</td><td> 96.45</td><td>91.09340</td><td>81094400</td></tr>\n",
              "\t<tr><td>2016-01-08</td><td> 98.55</td><td> 99.11</td><td> 96.76</td><td> 96.96</td><td>91.57507</td><td>70798000</td></tr>\n",
              "\t<tr><td>2016-01-11</td><td> 98.97</td><td> 99.06</td><td> 97.34</td><td> 98.53</td><td>93.05787</td><td>49739400</td></tr>\n",
              "</tbody>\n",
              "</table>\n"
            ],
            "text/markdown": [
              "\n",
              "A data.frame: 6 × 7\n",
              "\n",
              "| Date &lt;fct&gt; | Open &lt;dbl&gt; | High &lt;dbl&gt; | Low &lt;dbl&gt; | Close &lt;dbl&gt; | Adj.Close &lt;dbl&gt; | Volume &lt;int&gt; |\n",
              "|---|---|---|---|---|---|---|\n",
              "| 2016-01-04 | 102.61 | 105.37 | 102.00 | 105.35 | 99.49911 | 67649400 |\n",
              "| 2016-01-05 | 105.75 | 105.85 | 102.41 | 102.71 | 97.00573 | 55791000 |\n",
              "| 2016-01-06 | 100.56 | 102.37 |  99.87 | 100.70 | 95.10736 | 68457400 |\n",
              "| 2016-01-07 |  98.68 | 100.13 |  96.43 |  96.45 | 91.09340 | 81094400 |\n",
              "| 2016-01-08 |  98.55 |  99.11 |  96.76 |  96.96 | 91.57507 | 70798000 |\n",
              "| 2016-01-11 |  98.97 |  99.06 |  97.34 |  98.53 | 93.05787 | 49739400 |\n",
              "\n"
            ],
            "text/latex": [
              "A data.frame: 6 × 7\n",
              "\\begin{tabular}{r|lllllll}\n",
              " Date & Open & High & Low & Close & Adj.Close & Volume\\\\\n",
              " <fct> & <dbl> & <dbl> & <dbl> & <dbl> & <dbl> & <int>\\\\\n",
              "\\hline\n",
              "\t 2016-01-04 & 102.61 & 105.37 & 102.00 & 105.35 & 99.49911 & 67649400\\\\\n",
              "\t 2016-01-05 & 105.75 & 105.85 & 102.41 & 102.71 & 97.00573 & 55791000\\\\\n",
              "\t 2016-01-06 & 100.56 & 102.37 &  99.87 & 100.70 & 95.10736 & 68457400\\\\\n",
              "\t 2016-01-07 &  98.68 & 100.13 &  96.43 &  96.45 & 91.09340 & 81094400\\\\\n",
              "\t 2016-01-08 &  98.55 &  99.11 &  96.76 &  96.96 & 91.57507 & 70798000\\\\\n",
              "\t 2016-01-11 &  98.97 &  99.06 &  97.34 &  98.53 & 93.05787 & 49739400\\\\\n",
              "\\end{tabular}\n"
            ],
            "text/plain": [
              "  Date       Open   High   Low    Close  Adj.Close Volume  \n",
              "1 2016-01-04 102.61 105.37 102.00 105.35 99.49911  67649400\n",
              "2 2016-01-05 105.75 105.85 102.41 102.71 97.00573  55791000\n",
              "3 2016-01-06 100.56 102.37  99.87 100.70 95.10736  68457400\n",
              "4 2016-01-07  98.68 100.13  96.43  96.45 91.09340  81094400\n",
              "5 2016-01-08  98.55  99.11  96.76  96.96 91.57507  70798000\n",
              "6 2016-01-11  98.97  99.06  97.34  98.53 93.05787  49739400"
            ]
          },
          "metadata": {}
        }
      ],
      "execution_count": 3,
      "metadata": {
        "collapsed": false,
        "outputHidden": false,
        "inputHidden": false,
        "execution": {
          "iopub.status.busy": "2020-06-09T00:51:55.351Z",
          "iopub.execute_input": "2020-06-09T00:51:55.361Z",
          "iopub.status.idle": "2020-06-09T00:51:55.384Z",
          "shell.execute_reply": "2020-06-09T00:51:55.701Z"
        }
      }
    },
    {
      "cell_type": "code",
      "source": [
        "# Another function you can use 'fread'\n",
        "AAPL_df <- fread('C:/Users/Tin Hang/Desktop/WorkingOnPython/SimpleStocksR/AAPL.csv')"
      ],
      "outputs": [],
      "execution_count": 4,
      "metadata": {
        "collapsed": false,
        "outputHidden": false,
        "inputHidden": false,
        "execution": {
          "iopub.status.busy": "2020-06-09T00:51:55.400Z",
          "iopub.execute_input": "2020-06-09T00:51:55.413Z",
          "iopub.status.idle": "2020-06-09T00:51:55.429Z",
          "shell.execute_reply": "2020-06-09T00:51:55.708Z"
        }
      }
    },
    {
      "cell_type": "code",
      "source": [
        "head(AAPL_df)"
      ],
      "outputs": [
        {
          "output_type": "display_data",
          "data": {
            "text/html": [
              "<table>\n",
              "<caption>A data.table: 6 × 7</caption>\n",
              "<thead>\n",
              "\t<tr><th scope=col>Date</th><th scope=col>Open</th><th scope=col>High</th><th scope=col>Low</th><th scope=col>Close</th><th scope=col>Adj Close</th><th scope=col>Volume</th></tr>\n",
              "\t<tr><th scope=col>&lt;chr&gt;</th><th scope=col>&lt;dbl&gt;</th><th scope=col>&lt;dbl&gt;</th><th scope=col>&lt;dbl&gt;</th><th scope=col>&lt;dbl&gt;</th><th scope=col>&lt;dbl&gt;</th><th scope=col>&lt;int&gt;</th></tr>\n",
              "</thead>\n",
              "<tbody>\n",
              "\t<tr><td>2016-01-04</td><td>102.61</td><td>105.37</td><td>102.00</td><td>105.35</td><td>99.49911</td><td>67649400</td></tr>\n",
              "\t<tr><td>2016-01-05</td><td>105.75</td><td>105.85</td><td>102.41</td><td>102.71</td><td>97.00573</td><td>55791000</td></tr>\n",
              "\t<tr><td>2016-01-06</td><td>100.56</td><td>102.37</td><td> 99.87</td><td>100.70</td><td>95.10736</td><td>68457400</td></tr>\n",
              "\t<tr><td>2016-01-07</td><td> 98.68</td><td>100.13</td><td> 96.43</td><td> 96.45</td><td>91.09340</td><td>81094400</td></tr>\n",
              "\t<tr><td>2016-01-08</td><td> 98.55</td><td> 99.11</td><td> 96.76</td><td> 96.96</td><td>91.57507</td><td>70798000</td></tr>\n",
              "\t<tr><td>2016-01-11</td><td> 98.97</td><td> 99.06</td><td> 97.34</td><td> 98.53</td><td>93.05787</td><td>49739400</td></tr>\n",
              "</tbody>\n",
              "</table>\n"
            ],
            "text/markdown": [
              "\n",
              "A data.table: 6 × 7\n",
              "\n",
              "| Date &lt;chr&gt; | Open &lt;dbl&gt; | High &lt;dbl&gt; | Low &lt;dbl&gt; | Close &lt;dbl&gt; | Adj Close &lt;dbl&gt; | Volume &lt;int&gt; |\n",
              "|---|---|---|---|---|---|---|\n",
              "| 2016-01-04 | 102.61 | 105.37 | 102.00 | 105.35 | 99.49911 | 67649400 |\n",
              "| 2016-01-05 | 105.75 | 105.85 | 102.41 | 102.71 | 97.00573 | 55791000 |\n",
              "| 2016-01-06 | 100.56 | 102.37 |  99.87 | 100.70 | 95.10736 | 68457400 |\n",
              "| 2016-01-07 |  98.68 | 100.13 |  96.43 |  96.45 | 91.09340 | 81094400 |\n",
              "| 2016-01-08 |  98.55 |  99.11 |  96.76 |  96.96 | 91.57507 | 70798000 |\n",
              "| 2016-01-11 |  98.97 |  99.06 |  97.34 |  98.53 | 93.05787 | 49739400 |\n",
              "\n"
            ],
            "text/latex": [
              "A data.table: 6 × 7\n",
              "\\begin{tabular}{r|lllllll}\n",
              " Date & Open & High & Low & Close & Adj Close & Volume\\\\\n",
              " <chr> & <dbl> & <dbl> & <dbl> & <dbl> & <dbl> & <int>\\\\\n",
              "\\hline\n",
              "\t 2016-01-04 & 102.61 & 105.37 & 102.00 & 105.35 & 99.49911 & 67649400\\\\\n",
              "\t 2016-01-05 & 105.75 & 105.85 & 102.41 & 102.71 & 97.00573 & 55791000\\\\\n",
              "\t 2016-01-06 & 100.56 & 102.37 &  99.87 & 100.70 & 95.10736 & 68457400\\\\\n",
              "\t 2016-01-07 &  98.68 & 100.13 &  96.43 &  96.45 & 91.09340 & 81094400\\\\\n",
              "\t 2016-01-08 &  98.55 &  99.11 &  96.76 &  96.96 & 91.57507 & 70798000\\\\\n",
              "\t 2016-01-11 &  98.97 &  99.06 &  97.34 &  98.53 & 93.05787 & 49739400\\\\\n",
              "\\end{tabular}\n"
            ],
            "text/plain": [
              "  Date       Open   High   Low    Close  Adj Close Volume  \n",
              "1 2016-01-04 102.61 105.37 102.00 105.35 99.49911  67649400\n",
              "2 2016-01-05 105.75 105.85 102.41 102.71 97.00573  55791000\n",
              "3 2016-01-06 100.56 102.37  99.87 100.70 95.10736  68457400\n",
              "4 2016-01-07  98.68 100.13  96.43  96.45 91.09340  81094400\n",
              "5 2016-01-08  98.55  99.11  96.76  96.96 91.57507  70798000\n",
              "6 2016-01-11  98.97  99.06  97.34  98.53 93.05787  49739400"
            ]
          },
          "metadata": {}
        }
      ],
      "execution_count": 5,
      "metadata": {
        "collapsed": false,
        "outputHidden": false,
        "inputHidden": false,
        "execution": {
          "iopub.status.busy": "2020-06-09T00:51:55.448Z",
          "iopub.execute_input": "2020-06-09T00:51:55.459Z",
          "iopub.status.idle": "2020-06-09T00:51:55.481Z",
          "shell.execute_reply": "2020-06-09T00:51:55.713Z"
        }
      }
    },
    {
      "cell_type": "code",
      "source": [
        "AAPL_df1 <- read.csv('C:/Users/Tin Hang/Desktop/WorkingOnPython/SimpleStocksR/AAPL.csv', header = TRUE, sep = ',')"
      ],
      "outputs": [],
      "execution_count": 6,
      "metadata": {
        "collapsed": false,
        "outputHidden": false,
        "inputHidden": false,
        "execution": {
          "iopub.status.busy": "2020-06-09T00:51:55.494Z",
          "iopub.execute_input": "2020-06-09T00:51:55.505Z",
          "iopub.status.idle": "2020-06-09T00:51:55.521Z",
          "shell.execute_reply": "2020-06-09T00:51:55.719Z"
        }
      }
    },
    {
      "cell_type": "code",
      "source": [
        "rownames(AAPL_df1)=NULL"
      ],
      "outputs": [],
      "execution_count": 7,
      "metadata": {
        "collapsed": false,
        "outputHidden": false,
        "inputHidden": false,
        "execution": {
          "iopub.status.busy": "2020-06-09T00:51:55.536Z",
          "iopub.execute_input": "2020-06-09T00:51:55.545Z",
          "iopub.status.idle": "2020-06-09T00:51:55.559Z",
          "shell.execute_reply": "2020-06-09T00:51:55.724Z"
        }
      }
    },
    {
      "cell_type": "code",
      "source": [
        "tail(AAPL_df1)"
      ],
      "outputs": [
        {
          "output_type": "display_data",
          "data": {
            "text/html": [
              "<table>\n",
              "<caption>A data.frame: 6 × 7</caption>\n",
              "<thead>\n",
              "\t<tr><th></th><th scope=col>Date</th><th scope=col>Open</th><th scope=col>High</th><th scope=col>Low</th><th scope=col>Close</th><th scope=col>Adj.Close</th><th scope=col>Volume</th></tr>\n",
              "\t<tr><th></th><th scope=col>&lt;fct&gt;</th><th scope=col>&lt;dbl&gt;</th><th scope=col>&lt;dbl&gt;</th><th scope=col>&lt;dbl&gt;</th><th scope=col>&lt;dbl&gt;</th><th scope=col>&lt;dbl&gt;</th><th scope=col>&lt;int&gt;</th></tr>\n",
              "</thead>\n",
              "<tbody>\n",
              "\t<tr><th scope=row>749</th><td>2018-12-21</td><td>156.86</td><td>158.16</td><td>149.63</td><td>150.73</td><td>150.0863</td><td>95744600</td></tr>\n",
              "\t<tr><th scope=row>750</th><td>2018-12-24</td><td>148.15</td><td>151.55</td><td>146.59</td><td>146.83</td><td>146.2030</td><td>37169200</td></tr>\n",
              "\t<tr><th scope=row>751</th><td>2018-12-26</td><td>148.30</td><td>157.23</td><td>146.72</td><td>157.17</td><td>156.4988</td><td>58582500</td></tr>\n",
              "\t<tr><th scope=row>752</th><td>2018-12-27</td><td>155.84</td><td>156.77</td><td>150.07</td><td>156.15</td><td>155.4832</td><td>53117100</td></tr>\n",
              "\t<tr><th scope=row>753</th><td>2018-12-28</td><td>157.50</td><td>158.52</td><td>154.55</td><td>156.23</td><td>155.5628</td><td>42291400</td></tr>\n",
              "\t<tr><th scope=row>754</th><td>2018-12-31</td><td>158.53</td><td>159.36</td><td>156.48</td><td>157.74</td><td>157.0664</td><td>35003500</td></tr>\n",
              "</tbody>\n",
              "</table>\n"
            ],
            "text/markdown": [
              "\n",
              "A data.frame: 6 × 7\n",
              "\n",
              "| <!--/--> | Date &lt;fct&gt; | Open &lt;dbl&gt; | High &lt;dbl&gt; | Low &lt;dbl&gt; | Close &lt;dbl&gt; | Adj.Close &lt;dbl&gt; | Volume &lt;int&gt; |\n",
              "|---|---|---|---|---|---|---|---|\n",
              "| 749 | 2018-12-21 | 156.86 | 158.16 | 149.63 | 150.73 | 150.0863 | 95744600 |\n",
              "| 750 | 2018-12-24 | 148.15 | 151.55 | 146.59 | 146.83 | 146.2030 | 37169200 |\n",
              "| 751 | 2018-12-26 | 148.30 | 157.23 | 146.72 | 157.17 | 156.4988 | 58582500 |\n",
              "| 752 | 2018-12-27 | 155.84 | 156.77 | 150.07 | 156.15 | 155.4832 | 53117100 |\n",
              "| 753 | 2018-12-28 | 157.50 | 158.52 | 154.55 | 156.23 | 155.5628 | 42291400 |\n",
              "| 754 | 2018-12-31 | 158.53 | 159.36 | 156.48 | 157.74 | 157.0664 | 35003500 |\n",
              "\n"
            ],
            "text/latex": [
              "A data.frame: 6 × 7\n",
              "\\begin{tabular}{r|lllllll}\n",
              "  & Date & Open & High & Low & Close & Adj.Close & Volume\\\\\n",
              "  & <fct> & <dbl> & <dbl> & <dbl> & <dbl> & <dbl> & <int>\\\\\n",
              "\\hline\n",
              "\t749 & 2018-12-21 & 156.86 & 158.16 & 149.63 & 150.73 & 150.0863 & 95744600\\\\\n",
              "\t750 & 2018-12-24 & 148.15 & 151.55 & 146.59 & 146.83 & 146.2030 & 37169200\\\\\n",
              "\t751 & 2018-12-26 & 148.30 & 157.23 & 146.72 & 157.17 & 156.4988 & 58582500\\\\\n",
              "\t752 & 2018-12-27 & 155.84 & 156.77 & 150.07 & 156.15 & 155.4832 & 53117100\\\\\n",
              "\t753 & 2018-12-28 & 157.50 & 158.52 & 154.55 & 156.23 & 155.5628 & 42291400\\\\\n",
              "\t754 & 2018-12-31 & 158.53 & 159.36 & 156.48 & 157.74 & 157.0664 & 35003500\\\\\n",
              "\\end{tabular}\n"
            ],
            "text/plain": [
              "    Date       Open   High   Low    Close  Adj.Close Volume  \n",
              "749 2018-12-21 156.86 158.16 149.63 150.73 150.0863  95744600\n",
              "750 2018-12-24 148.15 151.55 146.59 146.83 146.2030  37169200\n",
              "751 2018-12-26 148.30 157.23 146.72 157.17 156.4988  58582500\n",
              "752 2018-12-27 155.84 156.77 150.07 156.15 155.4832  53117100\n",
              "753 2018-12-28 157.50 158.52 154.55 156.23 155.5628  42291400\n",
              "754 2018-12-31 158.53 159.36 156.48 157.74 157.0664  35003500"
            ]
          },
          "metadata": {}
        }
      ],
      "execution_count": 8,
      "metadata": {
        "collapsed": false,
        "outputHidden": false,
        "inputHidden": false,
        "execution": {
          "iopub.status.busy": "2020-06-09T00:51:55.573Z",
          "iopub.execute_input": "2020-06-09T00:51:55.584Z",
          "iopub.status.idle": "2020-06-09T00:51:55.610Z",
          "shell.execute_reply": "2020-06-09T00:51:55.729Z"
        }
      }
    },
    {
      "cell_type": "markdown",
      "source": [
        "## Quantmod"
      ],
      "metadata": {}
    },
    {
      "cell_type": "markdown",
      "source": [
        "### install.packages('Quantmod')"
      ],
      "metadata": {}
    },
    {
      "cell_type": "code",
      "source": [
        "library(quantmod)"
      ],
      "outputs": [
        {
          "output_type": "stream",
          "name": "stderr",
          "text": [
            "Warning message:\n",
            "\"package 'quantmod' was built under R version 3.5.3\"Loading required package: xts\n",
            "Warning message:\n",
            "\"package 'xts' was built under R version 3.5.3\"Loading required package: zoo\n",
            "Warning message:\n",
            "\"package 'zoo' was built under R version 3.5.3\"\n",
            "Attaching package: 'zoo'\n",
            "\n",
            "The following objects are masked from 'package:base':\n",
            "\n",
            "    as.Date, as.Date.numeric\n",
            "\n",
            "\n",
            "Attaching package: 'xts'\n",
            "\n",
            "The following objects are masked from 'package:data.table':\n",
            "\n",
            "    first, last\n",
            "\n",
            "Loading required package: TTR\n",
            "Warning message:\n",
            "\"package 'TTR' was built under R version 3.5.3\"Version 0.4-0 included new data defaults. See ?getSymbols.\n"
          ]
        }
      ],
      "execution_count": 9,
      "metadata": {
        "collapsed": false,
        "outputHidden": false,
        "inputHidden": false,
        "execution": {
          "iopub.status.busy": "2020-06-09T00:51:55.624Z",
          "iopub.execute_input": "2020-06-09T00:51:55.634Z",
          "shell.execute_reply": "2020-06-09T00:51:55.923Z",
          "iopub.status.idle": "2020-06-09T00:51:55.936Z"
        }
      }
    },
    {
      "cell_type": "code",
      "source": [
        "aapl <- getSymbols(\"AAPL\", from = \"2016-01-01\", to = \"2019-01-01\", src=\"yahoo\", auto.assign = F)"
      ],
      "outputs": [
        {
          "output_type": "stream",
          "name": "stderr",
          "text": [
            "'getSymbols' currently uses auto.assign=TRUE by default, but will\n",
            "use auto.assign=FALSE in 0.5-0. You will still be able to use\n",
            "'loadSymbols' to automatically load data. getOption(\"getSymbols.env\")\n",
            "and getOption(\"getSymbols.auto.assign\") will still be checked for\n",
            "alternate defaults.\n",
            "\n",
            "This message is shown once per session and may be disabled by setting \n",
            "options(\"getSymbols.warning4.0\"=FALSE). See ?getSymbols for details.\n",
            "\n"
          ]
        }
      ],
      "execution_count": 10,
      "metadata": {
        "collapsed": false,
        "outputHidden": false,
        "inputHidden": false,
        "execution": {
          "iopub.status.busy": "2020-06-09T00:51:55.951Z",
          "iopub.execute_input": "2020-06-09T00:51:55.958Z",
          "shell.execute_reply": "2020-06-09T00:51:57.346Z",
          "iopub.status.idle": "2020-06-09T00:51:57.364Z"
        }
      }
    },
    {
      "cell_type": "code",
      "source": [
        "head(aapl)"
      ],
      "outputs": [
        {
          "output_type": "display_data",
          "data": {
            "text/plain": [
              "           AAPL.Open AAPL.High AAPL.Low AAPL.Close AAPL.Volume AAPL.Adjusted\n",
              "2016-01-04    102.61    105.37   102.00     105.35    67649400      97.94844\n",
              "2016-01-05    105.75    105.85   102.41     102.71    55791000      95.49392\n",
              "2016-01-06    100.56    102.37    99.87     100.70    68457400      93.62515\n",
              "2016-01-07     98.68    100.13    96.43      96.45    81094400      89.67371\n",
              "2016-01-08     98.55     99.11    96.76      96.96    70798000      90.14787\n",
              "2016-01-11     98.97     99.06    97.34      98.53    49739400      91.60757"
            ]
          },
          "metadata": {}
        }
      ],
      "execution_count": 11,
      "metadata": {
        "collapsed": false,
        "outputHidden": false,
        "inputHidden": false,
        "execution": {
          "iopub.status.busy": "2020-06-09T00:51:57.381Z",
          "iopub.execute_input": "2020-06-09T00:51:57.391Z",
          "iopub.status.idle": "2020-06-09T00:51:57.414Z",
          "shell.execute_reply": "2020-06-09T00:51:57.471Z"
        }
      }
    },
    {
      "cell_type": "markdown",
      "source": [
        "## Quandl "
      ],
      "metadata": {}
    },
    {
      "cell_type": "markdown",
      "source": [
        "### install.packages('Quandl')"
      ],
      "metadata": {}
    },
    {
      "cell_type": "code",
      "source": [
        "library(Quandl)"
      ],
      "outputs": [
        {
          "output_type": "stream",
          "name": "stderr",
          "text": [
            "Warning message:\n",
            "\"package 'Quandl' was built under R version 3.5.3\""
          ]
        }
      ],
      "execution_count": 12,
      "metadata": {
        "collapsed": false,
        "outputHidden": false,
        "inputHidden": false,
        "execution": {
          "iopub.status.busy": "2020-06-09T00:51:57.428Z",
          "iopub.execute_input": "2020-06-09T00:51:57.439Z",
          "shell.execute_reply": "2020-06-09T00:51:57.510Z",
          "iopub.status.idle": "2020-06-09T00:51:57.523Z"
        }
      }
    },
    {
      "cell_type": "code",
      "source": [
        "Quandl.api_key(\"zZN6fzhAQD1x6pAKiHjs\") # Input your Key"
      ],
      "outputs": [],
      "execution_count": 13,
      "metadata": {
        "collapsed": false,
        "outputHidden": false,
        "inputHidden": false,
        "execution": {
          "iopub.status.busy": "2020-06-09T00:51:57.539Z",
          "iopub.execute_input": "2020-06-09T00:51:57.547Z",
          "iopub.status.idle": "2020-06-09T00:51:57.563Z",
          "shell.execute_reply": "2020-06-09T00:51:57.615Z"
        }
      }
    },
    {
      "cell_type": "code",
      "source": [
        "aapl <- Quandl(\"WIKI/AAPL\", type=\"xts\")"
      ],
      "outputs": [],
      "execution_count": 14,
      "metadata": {
        "collapsed": false,
        "outputHidden": false,
        "inputHidden": false,
        "execution": {
          "iopub.status.busy": "2020-06-09T00:51:57.578Z",
          "iopub.execute_input": "2020-06-09T00:51:57.586Z",
          "shell.execute_reply": "2020-06-09T00:52:02.123Z",
          "iopub.status.idle": "2020-06-09T00:52:02.135Z"
        }
      }
    },
    {
      "cell_type": "code",
      "source": [
        "head(aapl)"
      ],
      "outputs": [
        {
          "output_type": "display_data",
          "data": {
            "text/plain": [
              "            Open  High   Low Close  Volume Ex-Dividend Split Ratio Adj. Open\n",
              "1980-12-12 28.75 28.87 28.75 28.75 2093900           0           1 0.4227059\n",
              "1980-12-15 27.38 27.38 27.25 27.25  785200           0           1 0.4025631\n",
              "1980-12-16 25.37 25.37 25.25 25.25  472000           0           1 0.3730104\n",
              "1980-12-17 25.87 26.00 25.87 25.87  385900           0           1 0.3803618\n",
              "1980-12-18 26.63 26.75 26.63 26.63  327900           0           1 0.3915359\n",
              "1980-12-19 28.25 28.38 28.25 28.25  217100           0           1 0.4153545\n",
              "           Adj. High  Adj. Low Adj. Close Adj. Volume\n",
              "1980-12-12 0.4244703 0.4227059  0.4227059   117258400\n",
              "1980-12-15 0.4025631 0.4006517  0.4006517    43971200\n",
              "1980-12-16 0.3730104 0.3712461  0.3712461    26432000\n",
              "1980-12-17 0.3822732 0.3803618  0.3803618    21610400\n",
              "1980-12-18 0.3933003 0.3915359  0.3915359    18362400\n",
              "1980-12-19 0.4172659 0.4153545  0.4153545    12157600"
            ]
          },
          "metadata": {}
        }
      ],
      "execution_count": 15,
      "metadata": {
        "collapsed": false,
        "outputHidden": false,
        "inputHidden": false,
        "execution": {
          "iopub.status.busy": "2020-06-09T00:52:02.148Z",
          "iopub.execute_input": "2020-06-09T00:52:02.157Z",
          "iopub.status.idle": "2020-06-09T00:52:02.176Z",
          "shell.execute_reply": "2020-06-09T00:52:02.246Z"
        }
      }
    },
    {
      "cell_type": "markdown",
      "source": [
        "## BatchGetSymbols"
      ],
      "metadata": {}
    },
    {
      "cell_type": "markdown",
      "source": [
        "### install.packages('BatchGetSymbols')"
      ],
      "metadata": {}
    },
    {
      "cell_type": "code",
      "source": [
        "library(BatchGetSymbols)"
      ],
      "outputs": [
        {
          "output_type": "stream",
          "name": "stderr",
          "text": [
            "Warning message:\n",
            "\"package 'BatchGetSymbols' was built under R version 3.5.3\"Loading required package: rvest\n",
            "Warning message:\n",
            "\"package 'rvest' was built under R version 3.5.3\"Loading required package: xml2\n",
            "Warning message:\n",
            "\"package 'xml2' was built under R version 3.5.3\"Loading required package: dplyr\n",
            "Warning message:\n",
            "\"package 'dplyr' was built under R version 3.5.3\"\n",
            "Attaching package: 'dplyr'\n",
            "\n",
            "The following objects are masked from 'package:xts':\n",
            "\n",
            "    first, last\n",
            "\n",
            "The following objects are masked from 'package:data.table':\n",
            "\n",
            "    between, first, last\n",
            "\n",
            "The following objects are masked from 'package:stats':\n",
            "\n",
            "    filter, lag\n",
            "\n",
            "The following objects are masked from 'package:base':\n",
            "\n",
            "    intersect, setdiff, setequal, union\n",
            "\n",
            "\n"
          ]
        }
      ],
      "execution_count": 16,
      "metadata": {
        "collapsed": false,
        "outputHidden": false,
        "inputHidden": false,
        "execution": {
          "iopub.status.busy": "2020-06-09T00:52:02.189Z",
          "iopub.execute_input": "2020-06-09T00:52:02.198Z",
          "shell.execute_reply": "2020-06-09T00:52:02.772Z",
          "iopub.status.idle": "2020-06-09T00:52:02.786Z"
        }
      }
    },
    {
      "cell_type": "code",
      "source": [
        "aapl <- BatchGetSymbols(tickers = AAPL, \n",
        "                         first.date = \"2016-01-01\",\n",
        "                         last.date = \"2018-01-01\", \n",
        "                         freq.data = 'daily')"
      ],
      "outputs": [
        {
          "output_type": "error",
          "ename": "ERROR",
          "evalue": "Error in BatchGetSymbols(tickers = AAPL, first.date = \"2016-01-01\", last.date = \"2018-01-01\", : Google is no longer providing price data. You should be using YFinance\n",
          "traceback": [
            "Error in BatchGetSymbols(tickers = AAPL, first.date = \"2016-01-01\", last.date = \"2018-01-01\", : Google is no longer providing price data. You should be using YFinance\nTraceback:\n",
            "1. BatchGetSymbols(tickers = AAPL, first.date = \"2016-01-01\", last.date = \"2018-01-01\", \n .     freq.data = \"daily\")",
            "2. stop(my.msg)"
          ]
        }
      ],
      "execution_count": 17,
      "metadata": {
        "collapsed": false,
        "outputHidden": false,
        "inputHidden": false,
        "execution": {
          "iopub.status.busy": "2020-06-09T00:52:02.797Z",
          "iopub.execute_input": "2020-06-09T00:52:02.806Z",
          "shell.execute_reply": "2020-06-09T00:52:02.958Z",
          "iopub.status.idle": "2020-06-09T00:52:03.004Z"
        }
      }
    },
    {
      "cell_type": "code",
      "source": [
        "head(aapl)"
      ],
      "outputs": [
        {
          "output_type": "display_data",
          "data": {
            "text/plain": [
              "            Open  High   Low Close  Volume Ex-Dividend Split Ratio Adj. Open\n",
              "1980-12-12 28.75 28.87 28.75 28.75 2093900           0           1 0.4227059\n",
              "1980-12-15 27.38 27.38 27.25 27.25  785200           0           1 0.4025631\n",
              "1980-12-16 25.37 25.37 25.25 25.25  472000           0           1 0.3730104\n",
              "1980-12-17 25.87 26.00 25.87 25.87  385900           0           1 0.3803618\n",
              "1980-12-18 26.63 26.75 26.63 26.63  327900           0           1 0.3915359\n",
              "1980-12-19 28.25 28.38 28.25 28.25  217100           0           1 0.4153545\n",
              "           Adj. High  Adj. Low Adj. Close Adj. Volume\n",
              "1980-12-12 0.4244703 0.4227059  0.4227059   117258400\n",
              "1980-12-15 0.4025631 0.4006517  0.4006517    43971200\n",
              "1980-12-16 0.3730104 0.3712461  0.3712461    26432000\n",
              "1980-12-17 0.3822732 0.3803618  0.3803618    21610400\n",
              "1980-12-18 0.3933003 0.3915359  0.3915359    18362400\n",
              "1980-12-19 0.4172659 0.4153545  0.4153545    12157600"
            ]
          },
          "metadata": {}
        }
      ],
      "execution_count": 18,
      "metadata": {
        "collapsed": false,
        "outputHidden": false,
        "inputHidden": false,
        "execution": {
          "shell.execute_reply": "2020-06-09T00:54:23.177Z",
          "iopub.status.busy": "2020-06-09T00:54:23.108Z",
          "iopub.execute_input": "2020-06-09T00:54:23.124Z",
          "iopub.status.idle": "2020-06-09T00:54:23.150Z"
        }
      }
    },
    {
      "cell_type": "markdown",
      "source": [
        "## FinAna"
      ],
      "metadata": {}
    },
    {
      "cell_type": "markdown",
      "source": [
        "### install.packages('FinAna')"
      ],
      "metadata": {}
    },
    {
      "cell_type": "code",
      "source": [
        "library(FinAna)"
      ],
      "outputs": [
        {
          "output_type": "stream",
          "name": "stderr",
          "text": [
            "\n",
            "Attaching package: 'FinAna'\n",
            "\n",
            "The following object is masked from 'package:dplyr':\n",
            "\n",
            "    desc\n",
            "\n"
          ]
        }
      ],
      "execution_count": 19,
      "metadata": {
        "collapsed": false,
        "outputHidden": false,
        "inputHidden": false,
        "execution": {
          "shell.execute_reply": "2020-06-09T00:54:29.173Z",
          "iopub.status.busy": "2020-06-09T00:54:29.104Z",
          "iopub.execute_input": "2020-06-09T00:54:29.118Z",
          "iopub.status.idle": "2020-06-09T00:54:29.153Z"
        }
      }
    },
    {
      "cell_type": "code",
      "source": [
        "aapl <- get.price.yahoo('AAPL', bg = \"2016-01-01\",ed = \"2019-01-01\", f = \"d\")"
      ],
      "outputs": [
        {
          "output_type": "stream",
          "name": "stderr",
          "text": [
            "Warning message in file(file, \"rt\"):\n",
            "\"InternetOpenUrl failed: 'The server name or address could not be resolved'\""
          ]
        },
        {
          "output_type": "error",
          "ename": "ERROR",
          "evalue": "Error in file(file, \"rt\"): cannot open the connection\n",
          "traceback": [
            "Error in file(file, \"rt\"): cannot open the connection\nTraceback:\n",
            "1. get.price.yahoo(\"AAPL\", bg = \"2016-01-01\", ed = \"2019-01-01\", \n .     f = \"d\")",
            "2. read.csv(paste0(\"http://ichart.finance.yahoo.com/table.csv?s=\", \n .     tkr[i], \"&a=\", bgmth, \"&b=\", bgday, \"&c=\", bgyear, \"&d=\", \n .     edmth, \"&e=\", edday, \"&f=\", edyear, \"&g=\", f))",
            "3. read.table(file = file, header = header, sep = sep, quote = quote, \n .     dec = dec, fill = fill, comment.char = comment.char, ...)",
            "4. file(file, \"rt\")"
          ]
        }
      ],
      "execution_count": 20,
      "metadata": {
        "collapsed": false,
        "outputHidden": false,
        "inputHidden": false,
        "execution": {
          "shell.execute_reply": "2020-06-09T00:54:31.928Z",
          "iopub.status.busy": "2020-06-09T00:54:31.840Z",
          "iopub.execute_input": "2020-06-09T00:54:31.852Z",
          "iopub.status.idle": "2020-06-09T00:54:31.954Z"
        }
      }
    },
    {
      "cell_type": "code",
      "source": [
        "head(aapl)"
      ],
      "outputs": [
        {
          "output_type": "display_data",
          "data": {
            "text/plain": [
              "            Open  High   Low Close  Volume Ex-Dividend Split Ratio Adj. Open\n",
              "1980-12-12 28.75 28.87 28.75 28.75 2093900           0           1 0.4227059\n",
              "1980-12-15 27.38 27.38 27.25 27.25  785200           0           1 0.4025631\n",
              "1980-12-16 25.37 25.37 25.25 25.25  472000           0           1 0.3730104\n",
              "1980-12-17 25.87 26.00 25.87 25.87  385900           0           1 0.3803618\n",
              "1980-12-18 26.63 26.75 26.63 26.63  327900           0           1 0.3915359\n",
              "1980-12-19 28.25 28.38 28.25 28.25  217100           0           1 0.4153545\n",
              "           Adj. High  Adj. Low Adj. Close Adj. Volume\n",
              "1980-12-12 0.4244703 0.4227059  0.4227059   117258400\n",
              "1980-12-15 0.4025631 0.4006517  0.4006517    43971200\n",
              "1980-12-16 0.3730104 0.3712461  0.3712461    26432000\n",
              "1980-12-17 0.3822732 0.3803618  0.3803618    21610400\n",
              "1980-12-18 0.3933003 0.3915359  0.3915359    18362400\n",
              "1980-12-19 0.4172659 0.4153545  0.4153545    12157600"
            ]
          },
          "metadata": {}
        }
      ],
      "execution_count": 21,
      "metadata": {
        "collapsed": false,
        "outputHidden": false,
        "inputHidden": false,
        "execution": {
          "shell.execute_reply": "2020-06-09T00:54:34.329Z",
          "iopub.status.busy": "2020-06-09T00:54:34.284Z",
          "iopub.execute_input": "2020-06-09T00:54:34.292Z",
          "iopub.status.idle": "2020-06-09T00:54:34.311Z"
        }
      }
    },
    {
      "cell_type": "markdown",
      "source": [
        "### install.packages('tidyquant')"
      ],
      "metadata": {
        "nteract": {
          "transient": {
            "deleting": false
          }
        }
      }
    },
    {
      "cell_type": "code",
      "source": [
        "library(tidyquant)"
      ],
      "outputs": [
        {
          "output_type": "stream",
          "name": "stderr",
          "text": [
            "Warning message:\n",
            "\"package 'tidyquant' was built under R version 3.5.3\"Loading required package: lubridate\n",
            "Warning message:\n",
            "\"package 'lubridate' was built under R version 3.5.3\"\n",
            "Attaching package: 'lubridate'\n",
            "\n",
            "The following objects are masked from 'package:data.table':\n",
            "\n",
            "    hour, isoweek, mday, minute, month, quarter, second, wday, week,\n",
            "    yday, year\n",
            "\n",
            "The following object is masked from 'package:base':\n",
            "\n",
            "    date\n",
            "\n",
            "Loading required package: PerformanceAnalytics\n",
            "Warning message:\n",
            "\"package 'PerformanceAnalytics' was built under R version 3.5.3\"\n",
            "Attaching package: 'PerformanceAnalytics'\n",
            "\n",
            "The following object is masked from 'package:graphics':\n",
            "\n",
            "    legend\n",
            "\n",
            "Loading required package: tidyverse\n",
            "Warning message:\n",
            "\"package 'tidyverse' was built under R version 3.5.3\"-- Attaching packages --------------------------------------- tidyverse 1.2.1 --\n",
            "v ggplot2 3.1.1     v readr   1.3.1\n",
            "v tibble  2.1.1     v purrr   0.3.2\n",
            "v tidyr   0.8.3     v stringr 1.4.0\n",
            "v ggplot2 3.1.1     v forcats 0.4.0\n",
            "Warning message:\n",
            "\"package 'ggplot2' was built under R version 3.5.3\"Warning message:\n",
            "\"package 'tibble' was built under R version 3.5.3\"Warning message:\n",
            "\"package 'tidyr' was built under R version 3.5.3\"Warning message:\n",
            "\"package 'readr' was built under R version 3.5.3\"Warning message:\n",
            "\"package 'purrr' was built under R version 3.5.3\"Warning message:\n",
            "\"package 'stringr' was built under R version 3.5.3\"Warning message:\n",
            "\"package 'forcats' was built under R version 3.5.3\"-- Conflicts ------------------------------------------ tidyverse_conflicts() --\n",
            "x lubridate::as.difftime() masks base::as.difftime()\n",
            "x dplyr::between()         masks data.table::between()\n",
            "x lubridate::date()        masks base::date()\n",
            "x FinAna::desc()           masks dplyr::desc()\n",
            "x dplyr::filter()          masks stats::filter()\n",
            "x dplyr::first()           masks xts::first(), data.table::first()\n",
            "x readr::guess_encoding()  masks rvest::guess_encoding()\n",
            "x lubridate::hour()        masks data.table::hour()\n",
            "x lubridate::intersect()   masks base::intersect()\n",
            "x lubridate::isoweek()     masks data.table::isoweek()\n",
            "x dplyr::lag()             masks stats::lag()\n",
            "x dplyr::last()            masks xts::last(), data.table::last()\n",
            "x lubridate::mday()        masks data.table::mday()\n",
            "x lubridate::minute()      masks data.table::minute()\n",
            "x lubridate::month()       masks data.table::month()\n",
            "x purrr::pluck()           masks rvest::pluck()\n",
            "x lubridate::quarter()     masks data.table::quarter()\n",
            "x lubridate::second()      masks data.table::second()\n",
            "x lubridate::setdiff()     masks base::setdiff()\n",
            "x purrr::transpose()       masks data.table::transpose()\n",
            "x lubridate::union()       masks base::union()\n",
            "x lubridate::wday()        masks data.table::wday()\n",
            "x lubridate::week()        masks data.table::week()\n",
            "x lubridate::yday()        masks data.table::yday()\n",
            "x lubridate::year()        masks data.table::year()\n"
          ]
        }
      ],
      "execution_count": 22,
      "metadata": {
        "collapsed": true,
        "jupyter": {
          "source_hidden": false,
          "outputs_hidden": false
        },
        "nteract": {
          "transient": {
            "deleting": false
          }
        },
        "execution": {
          "shell.execute_reply": "2020-06-09T00:54:38.873Z",
          "iopub.status.busy": "2020-06-09T00:54:37.092Z",
          "iopub.execute_input": "2020-06-09T00:54:37.104Z",
          "iopub.status.idle": "2020-06-09T00:54:38.886Z"
        }
      }
    },
    {
      "cell_type": "code",
      "source": [
        "getSymbols(\"AAPL\", from = '2017-01-01',\n",
        "           to = \"2018-03-01\",warnings = FALSE,\n",
        "           auto.assign = TRUE)"
      ],
      "outputs": [
        {
          "output_type": "display_data",
          "data": {
            "text/html": [
              "'AAPL'"
            ],
            "text/markdown": [
              "'AAPL'"
            ],
            "text/latex": [
              "'AAPL'"
            ],
            "text/plain": [
              "[1] \"AAPL\""
            ]
          },
          "metadata": {}
        }
      ],
      "execution_count": 23,
      "metadata": {
        "collapsed": true,
        "jupyter": {
          "source_hidden": false,
          "outputs_hidden": false
        },
        "nteract": {
          "transient": {
            "deleting": false
          }
        },
        "execution": {
          "shell.execute_reply": "2020-06-09T00:54:39.321Z",
          "iopub.status.busy": "2020-06-09T00:54:39.104Z",
          "iopub.execute_input": "2020-06-09T00:54:39.112Z",
          "iopub.status.idle": "2020-06-09T00:54:39.306Z"
        }
      }
    },
    {
      "cell_type": "code",
      "source": [
        "head(AAPL)"
      ],
      "outputs": [
        {
          "output_type": "display_data",
          "data": {
            "text/plain": [
              "           AAPL.Open AAPL.High AAPL.Low AAPL.Close AAPL.Volume AAPL.Adjusted\n",
              "2017-01-03    115.80    116.33   114.76     116.15    28781900      110.3923\n",
              "2017-01-04    115.85    116.51   115.75     116.02    21118100      110.2688\n",
              "2017-01-05    115.92    116.86   115.81     116.61    22193600      110.8296\n",
              "2017-01-06    116.78    118.16   116.47     117.91    31751900      112.0651\n",
              "2017-01-09    117.95    119.43   117.94     118.99    33561900      113.0916\n",
              "2017-01-10    118.77    119.38   118.30     119.11    24462100      113.2056"
            ]
          },
          "metadata": {}
        }
      ],
      "execution_count": 24,
      "metadata": {
        "collapsed": true,
        "jupyter": {
          "source_hidden": false,
          "outputs_hidden": false
        },
        "nteract": {
          "transient": {
            "deleting": false
          }
        },
        "execution": {
          "shell.execute_reply": "2020-06-09T00:54:43.309Z",
          "iopub.status.busy": "2020-06-09T00:54:43.268Z",
          "iopub.execute_input": "2020-06-09T00:54:43.276Z",
          "iopub.status.idle": "2020-06-09T00:54:43.292Z"
        }
      }
    }
  ],
  "metadata": {
    "kernel_info": {
      "name": "ir"
    },
    "language_info": {
      "name": "R",
      "codemirror_mode": "r",
      "pygments_lexer": "r",
      "mimetype": "text/x-r-source",
      "file_extension": ".r",
      "version": "3.5.2"
    },
    "kernelspec": {
      "name": "ir",
      "language": "R",
      "display_name": "R"
    },
    "nteract": {
      "version": "0.23.3"
    }
  },
  "nbformat": 4,
  "nbformat_minor": 0
}