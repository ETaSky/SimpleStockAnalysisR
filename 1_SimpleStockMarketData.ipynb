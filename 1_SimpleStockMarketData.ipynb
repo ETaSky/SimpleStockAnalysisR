{
  "cells": [
    {
      "cell_type": "markdown",
      "source": [
        "# Stock Market Data"
      ],
      "metadata": {}
    },
    {
      "cell_type": "code",
      "source": [
        "library(data.table)"
      ],
      "outputs": [],
      "execution_count": 1,
      "metadata": {
        "collapsed": false,
        "outputHidden": false,
        "inputHidden": false
      }
    },
    {
      "cell_type": "markdown",
      "source": [
        "## Download stock historical from yahoo website\n",
        "## Read CSV file"
      ],
      "metadata": {}
    },
    {
      "cell_type": "code",
      "source": [
        "AAPL <- read.csv('C:/Users/Tin Hang/Desktop/WorkingOnPython/SimpleStocksR/AAPL.csv')"
      ],
      "outputs": [],
      "execution_count": 2,
      "metadata": {
        "collapsed": false,
        "outputHidden": false,
        "inputHidden": false
      }
    },
    {
      "cell_type": "code",
      "source": [
        "head(AAPL)"
      ],
      "outputs": [
        {
          "output_type": "display_data",
          "data": {
            "text/html": [
              "<table>\n",
              "<caption>A data.frame: 6 × 7</caption>\n",
              "<thead>\n",
              "\t<tr><th scope=col>Date</th><th scope=col>Open</th><th scope=col>High</th><th scope=col>Low</th><th scope=col>Close</th><th scope=col>Adj.Close</th><th scope=col>Volume</th></tr>\n",
              "\t<tr><th scope=col>&lt;fct&gt;</th><th scope=col>&lt;dbl&gt;</th><th scope=col>&lt;dbl&gt;</th><th scope=col>&lt;dbl&gt;</th><th scope=col>&lt;dbl&gt;</th><th scope=col>&lt;dbl&gt;</th><th scope=col>&lt;int&gt;</th></tr>\n",
              "</thead>\n",
              "<tbody>\n",
              "\t<tr><td>2016-01-04</td><td>102.61</td><td>105.37</td><td>102.00</td><td>105.35</td><td>99.49911</td><td>67649400</td></tr>\n",
              "\t<tr><td>2016-01-05</td><td>105.75</td><td>105.85</td><td>102.41</td><td>102.71</td><td>97.00573</td><td>55791000</td></tr>\n",
              "\t<tr><td>2016-01-06</td><td>100.56</td><td>102.37</td><td> 99.87</td><td>100.70</td><td>95.10736</td><td>68457400</td></tr>\n",
              "\t<tr><td>2016-01-07</td><td> 98.68</td><td>100.13</td><td> 96.43</td><td> 96.45</td><td>91.09340</td><td>81094400</td></tr>\n",
              "\t<tr><td>2016-01-08</td><td> 98.55</td><td> 99.11</td><td> 96.76</td><td> 96.96</td><td>91.57507</td><td>70798000</td></tr>\n",
              "\t<tr><td>2016-01-11</td><td> 98.97</td><td> 99.06</td><td> 97.34</td><td> 98.53</td><td>93.05787</td><td>49739400</td></tr>\n",
              "</tbody>\n",
              "</table>\n"
            ],
            "text/markdown": [
              "\n",
              "A data.frame: 6 × 7\n",
              "\n",
              "| Date &lt;fct&gt; | Open &lt;dbl&gt; | High &lt;dbl&gt; | Low &lt;dbl&gt; | Close &lt;dbl&gt; | Adj.Close &lt;dbl&gt; | Volume &lt;int&gt; |\n",
              "|---|---|---|---|---|---|---|\n",
              "| 2016-01-04 | 102.61 | 105.37 | 102.00 | 105.35 | 99.49911 | 67649400 |\n",
              "| 2016-01-05 | 105.75 | 105.85 | 102.41 | 102.71 | 97.00573 | 55791000 |\n",
              "| 2016-01-06 | 100.56 | 102.37 |  99.87 | 100.70 | 95.10736 | 68457400 |\n",
              "| 2016-01-07 |  98.68 | 100.13 |  96.43 |  96.45 | 91.09340 | 81094400 |\n",
              "| 2016-01-08 |  98.55 |  99.11 |  96.76 |  96.96 | 91.57507 | 70798000 |\n",
              "| 2016-01-11 |  98.97 |  99.06 |  97.34 |  98.53 | 93.05787 | 49739400 |\n",
              "\n"
            ],
            "text/latex": [
              "A data.frame: 6 × 7\n",
              "\\begin{tabular}{r|lllllll}\n",
              " Date & Open & High & Low & Close & Adj.Close & Volume\\\\\n",
              " <fct> & <dbl> & <dbl> & <dbl> & <dbl> & <dbl> & <int>\\\\\n",
              "\\hline\n",
              "\t 2016-01-04 & 102.61 & 105.37 & 102.00 & 105.35 & 99.49911 & 67649400\\\\\n",
              "\t 2016-01-05 & 105.75 & 105.85 & 102.41 & 102.71 & 97.00573 & 55791000\\\\\n",
              "\t 2016-01-06 & 100.56 & 102.37 &  99.87 & 100.70 & 95.10736 & 68457400\\\\\n",
              "\t 2016-01-07 &  98.68 & 100.13 &  96.43 &  96.45 & 91.09340 & 81094400\\\\\n",
              "\t 2016-01-08 &  98.55 &  99.11 &  96.76 &  96.96 & 91.57507 & 70798000\\\\\n",
              "\t 2016-01-11 &  98.97 &  99.06 &  97.34 &  98.53 & 93.05787 & 49739400\\\\\n",
              "\\end{tabular}\n"
            ],
            "text/plain": [
              "  Date       Open   High   Low    Close  Adj.Close Volume  \n",
              "1 2016-01-04 102.61 105.37 102.00 105.35 99.49911  67649400\n",
              "2 2016-01-05 105.75 105.85 102.41 102.71 97.00573  55791000\n",
              "3 2016-01-06 100.56 102.37  99.87 100.70 95.10736  68457400\n",
              "4 2016-01-07  98.68 100.13  96.43  96.45 91.09340  81094400\n",
              "5 2016-01-08  98.55  99.11  96.76  96.96 91.57507  70798000\n",
              "6 2016-01-11  98.97  99.06  97.34  98.53 93.05787  49739400"
            ]
          },
          "metadata": {}
        }
      ],
      "execution_count": 3,
      "metadata": {
        "collapsed": false,
        "outputHidden": false,
        "inputHidden": false
      }
    },
    {
      "cell_type": "code",
      "source": [
        "# Another function you can use 'fread'\n",
        "AAPL_df <- fread('C:/Users/Tin Hang/Desktop/WorkingOnPython/SimpleStocksR/AAPL.csv')"
      ],
      "outputs": [],
      "execution_count": 4,
      "metadata": {
        "collapsed": false,
        "outputHidden": false,
        "inputHidden": false
      }
    },
    {
      "cell_type": "code",
      "source": [
        "head(AAPL_df)"
      ],
      "outputs": [
        {
          "output_type": "display_data",
          "data": {
            "text/html": [
              "<table>\n",
              "<caption>A data.table: 6 × 7</caption>\n",
              "<thead>\n",
              "\t<tr><th scope=col>Date</th><th scope=col>Open</th><th scope=col>High</th><th scope=col>Low</th><th scope=col>Close</th><th scope=col>Adj Close</th><th scope=col>Volume</th></tr>\n",
              "\t<tr><th scope=col>&lt;chr&gt;</th><th scope=col>&lt;dbl&gt;</th><th scope=col>&lt;dbl&gt;</th><th scope=col>&lt;dbl&gt;</th><th scope=col>&lt;dbl&gt;</th><th scope=col>&lt;dbl&gt;</th><th scope=col>&lt;int&gt;</th></tr>\n",
              "</thead>\n",
              "<tbody>\n",
              "\t<tr><td>2016-01-04</td><td>102.61</td><td>105.37</td><td>102.00</td><td>105.35</td><td>99.49911</td><td>67649400</td></tr>\n",
              "\t<tr><td>2016-01-05</td><td>105.75</td><td>105.85</td><td>102.41</td><td>102.71</td><td>97.00573</td><td>55791000</td></tr>\n",
              "\t<tr><td>2016-01-06</td><td>100.56</td><td>102.37</td><td> 99.87</td><td>100.70</td><td>95.10736</td><td>68457400</td></tr>\n",
              "\t<tr><td>2016-01-07</td><td> 98.68</td><td>100.13</td><td> 96.43</td><td> 96.45</td><td>91.09340</td><td>81094400</td></tr>\n",
              "\t<tr><td>2016-01-08</td><td> 98.55</td><td> 99.11</td><td> 96.76</td><td> 96.96</td><td>91.57507</td><td>70798000</td></tr>\n",
              "\t<tr><td>2016-01-11</td><td> 98.97</td><td> 99.06</td><td> 97.34</td><td> 98.53</td><td>93.05787</td><td>49739400</td></tr>\n",
              "</tbody>\n",
              "</table>\n"
            ],
            "text/markdown": [
              "\n",
              "A data.table: 6 × 7\n",
              "\n",
              "| Date &lt;chr&gt; | Open &lt;dbl&gt; | High &lt;dbl&gt; | Low &lt;dbl&gt; | Close &lt;dbl&gt; | Adj Close &lt;dbl&gt; | Volume &lt;int&gt; |\n",
              "|---|---|---|---|---|---|---|\n",
              "| 2016-01-04 | 102.61 | 105.37 | 102.00 | 105.35 | 99.49911 | 67649400 |\n",
              "| 2016-01-05 | 105.75 | 105.85 | 102.41 | 102.71 | 97.00573 | 55791000 |\n",
              "| 2016-01-06 | 100.56 | 102.37 |  99.87 | 100.70 | 95.10736 | 68457400 |\n",
              "| 2016-01-07 |  98.68 | 100.13 |  96.43 |  96.45 | 91.09340 | 81094400 |\n",
              "| 2016-01-08 |  98.55 |  99.11 |  96.76 |  96.96 | 91.57507 | 70798000 |\n",
              "| 2016-01-11 |  98.97 |  99.06 |  97.34 |  98.53 | 93.05787 | 49739400 |\n",
              "\n"
            ],
            "text/latex": [
              "A data.table: 6 × 7\n",
              "\\begin{tabular}{r|lllllll}\n",
              " Date & Open & High & Low & Close & Adj Close & Volume\\\\\n",
              " <chr> & <dbl> & <dbl> & <dbl> & <dbl> & <dbl> & <int>\\\\\n",
              "\\hline\n",
              "\t 2016-01-04 & 102.61 & 105.37 & 102.00 & 105.35 & 99.49911 & 67649400\\\\\n",
              "\t 2016-01-05 & 105.75 & 105.85 & 102.41 & 102.71 & 97.00573 & 55791000\\\\\n",
              "\t 2016-01-06 & 100.56 & 102.37 &  99.87 & 100.70 & 95.10736 & 68457400\\\\\n",
              "\t 2016-01-07 &  98.68 & 100.13 &  96.43 &  96.45 & 91.09340 & 81094400\\\\\n",
              "\t 2016-01-08 &  98.55 &  99.11 &  96.76 &  96.96 & 91.57507 & 70798000\\\\\n",
              "\t 2016-01-11 &  98.97 &  99.06 &  97.34 &  98.53 & 93.05787 & 49739400\\\\\n",
              "\\end{tabular}\n"
            ],
            "text/plain": [
              "  Date       Open   High   Low    Close  Adj Close Volume  \n",
              "1 2016-01-04 102.61 105.37 102.00 105.35 99.49911  67649400\n",
              "2 2016-01-05 105.75 105.85 102.41 102.71 97.00573  55791000\n",
              "3 2016-01-06 100.56 102.37  99.87 100.70 95.10736  68457400\n",
              "4 2016-01-07  98.68 100.13  96.43  96.45 91.09340  81094400\n",
              "5 2016-01-08  98.55  99.11  96.76  96.96 91.57507  70798000\n",
              "6 2016-01-11  98.97  99.06  97.34  98.53 93.05787  49739400"
            ]
          },
          "metadata": {}
        }
      ],
      "execution_count": 5,
      "metadata": {
        "collapsed": false,
        "outputHidden": false,
        "inputHidden": false
      }
    },
    {
      "cell_type": "code",
      "source": [
        "AAPL_df1 <- read.csv('C:/Users/Tin Hang/Desktop/WorkingOnPython/SimpleStocksR/AAPL.csv', header = TRUE, sep = ',')"
      ],
      "outputs": [],
      "execution_count": 6,
      "metadata": {
        "collapsed": false,
        "outputHidden": false,
        "inputHidden": false
      }
    },
    {
      "cell_type": "code",
      "source": [
        "rownames(AAPL_df1)=NULL"
      ],
      "outputs": [],
      "execution_count": 7,
      "metadata": {
        "collapsed": false,
        "outputHidden": false,
        "inputHidden": false
      }
    },
    {
      "cell_type": "code",
      "source": [
        "tail(AAPL_df1)"
      ],
      "outputs": [
        {
          "output_type": "display_data",
          "data": {
            "text/html": [
              "<table>\n",
              "<caption>A data.frame: 6 × 7</caption>\n",
              "<thead>\n",
              "\t<tr><th></th><th scope=col>Date</th><th scope=col>Open</th><th scope=col>High</th><th scope=col>Low</th><th scope=col>Close</th><th scope=col>Adj.Close</th><th scope=col>Volume</th></tr>\n",
              "\t<tr><th></th><th scope=col>&lt;fct&gt;</th><th scope=col>&lt;dbl&gt;</th><th scope=col>&lt;dbl&gt;</th><th scope=col>&lt;dbl&gt;</th><th scope=col>&lt;dbl&gt;</th><th scope=col>&lt;dbl&gt;</th><th scope=col>&lt;int&gt;</th></tr>\n",
              "</thead>\n",
              "<tbody>\n",
              "\t<tr><th scope=row>749</th><td>2018-12-21</td><td>156.86</td><td>158.16</td><td>149.63</td><td>150.73</td><td>150.0863</td><td>95744600</td></tr>\n",
              "\t<tr><th scope=row>750</th><td>2018-12-24</td><td>148.15</td><td>151.55</td><td>146.59</td><td>146.83</td><td>146.2030</td><td>37169200</td></tr>\n",
              "\t<tr><th scope=row>751</th><td>2018-12-26</td><td>148.30</td><td>157.23</td><td>146.72</td><td>157.17</td><td>156.4988</td><td>58582500</td></tr>\n",
              "\t<tr><th scope=row>752</th><td>2018-12-27</td><td>155.84</td><td>156.77</td><td>150.07</td><td>156.15</td><td>155.4832</td><td>53117100</td></tr>\n",
              "\t<tr><th scope=row>753</th><td>2018-12-28</td><td>157.50</td><td>158.52</td><td>154.55</td><td>156.23</td><td>155.5628</td><td>42291400</td></tr>\n",
              "\t<tr><th scope=row>754</th><td>2018-12-31</td><td>158.53</td><td>159.36</td><td>156.48</td><td>157.74</td><td>157.0664</td><td>35003500</td></tr>\n",
              "</tbody>\n",
              "</table>\n"
            ],
            "text/markdown": [
              "\n",
              "A data.frame: 6 × 7\n",
              "\n",
              "| <!--/--> | Date &lt;fct&gt; | Open &lt;dbl&gt; | High &lt;dbl&gt; | Low &lt;dbl&gt; | Close &lt;dbl&gt; | Adj.Close &lt;dbl&gt; | Volume &lt;int&gt; |\n",
              "|---|---|---|---|---|---|---|---|\n",
              "| 749 | 2018-12-21 | 156.86 | 158.16 | 149.63 | 150.73 | 150.0863 | 95744600 |\n",
              "| 750 | 2018-12-24 | 148.15 | 151.55 | 146.59 | 146.83 | 146.2030 | 37169200 |\n",
              "| 751 | 2018-12-26 | 148.30 | 157.23 | 146.72 | 157.17 | 156.4988 | 58582500 |\n",
              "| 752 | 2018-12-27 | 155.84 | 156.77 | 150.07 | 156.15 | 155.4832 | 53117100 |\n",
              "| 753 | 2018-12-28 | 157.50 | 158.52 | 154.55 | 156.23 | 155.5628 | 42291400 |\n",
              "| 754 | 2018-12-31 | 158.53 | 159.36 | 156.48 | 157.74 | 157.0664 | 35003500 |\n",
              "\n"
            ],
            "text/latex": [
              "A data.frame: 6 × 7\n",
              "\\begin{tabular}{r|lllllll}\n",
              "  & Date & Open & High & Low & Close & Adj.Close & Volume\\\\\n",
              "  & <fct> & <dbl> & <dbl> & <dbl> & <dbl> & <dbl> & <int>\\\\\n",
              "\\hline\n",
              "\t749 & 2018-12-21 & 156.86 & 158.16 & 149.63 & 150.73 & 150.0863 & 95744600\\\\\n",
              "\t750 & 2018-12-24 & 148.15 & 151.55 & 146.59 & 146.83 & 146.2030 & 37169200\\\\\n",
              "\t751 & 2018-12-26 & 148.30 & 157.23 & 146.72 & 157.17 & 156.4988 & 58582500\\\\\n",
              "\t752 & 2018-12-27 & 155.84 & 156.77 & 150.07 & 156.15 & 155.4832 & 53117100\\\\\n",
              "\t753 & 2018-12-28 & 157.50 & 158.52 & 154.55 & 156.23 & 155.5628 & 42291400\\\\\n",
              "\t754 & 2018-12-31 & 158.53 & 159.36 & 156.48 & 157.74 & 157.0664 & 35003500\\\\\n",
              "\\end{tabular}\n"
            ],
            "text/plain": [
              "    Date       Open   High   Low    Close  Adj.Close Volume  \n",
              "749 2018-12-21 156.86 158.16 149.63 150.73 150.0863  95744600\n",
              "750 2018-12-24 148.15 151.55 146.59 146.83 146.2030  37169200\n",
              "751 2018-12-26 148.30 157.23 146.72 157.17 156.4988  58582500\n",
              "752 2018-12-27 155.84 156.77 150.07 156.15 155.4832  53117100\n",
              "753 2018-12-28 157.50 158.52 154.55 156.23 155.5628  42291400\n",
              "754 2018-12-31 158.53 159.36 156.48 157.74 157.0664  35003500"
            ]
          },
          "metadata": {}
        }
      ],
      "execution_count": 8,
      "metadata": {
        "collapsed": false,
        "outputHidden": false,
        "inputHidden": false
      }
    },
    {
      "cell_type": "markdown",
      "source": [
        "## Quantmod"
      ],
      "metadata": {}
    },
    {
      "cell_type": "markdown",
      "source": [
        "### install.packages('Quantmod')"
      ],
      "metadata": {}
    },
    {
      "cell_type": "code",
      "source": [
        "library(quantmod)"
      ],
      "outputs": [
        {
          "output_type": "stream",
          "name": "stderr",
          "text": [
            "Warning message:\n",
            "\"package 'quantmod' was built under R version 3.5.3\"Loading required package: xts\n",
            "Warning message:\n",
            "\"package 'xts' was built under R version 3.5.3\"Loading required package: zoo\n",
            "Warning message:\n",
            "\"package 'zoo' was built under R version 3.5.3\"\n",
            "Attaching package: 'zoo'\n",
            "\n",
            "The following objects are masked from 'package:base':\n",
            "\n",
            "    as.Date, as.Date.numeric\n",
            "\n",
            "\n",
            "Attaching package: 'xts'\n",
            "\n",
            "The following objects are masked from 'package:data.table':\n",
            "\n",
            "    first, last\n",
            "\n",
            "Loading required package: TTR\n",
            "Warning message:\n",
            "\"package 'TTR' was built under R version 3.5.3\"Version 0.4-0 included new data defaults. See ?getSymbols.\n"
          ]
        }
      ],
      "execution_count": 9,
      "metadata": {
        "collapsed": false,
        "outputHidden": false,
        "inputHidden": false
      }
    },
    {
      "cell_type": "code",
      "source": [
        "aapl <- getSymbols(\"AAPL\", from = \"2016-01-01\", to = \"2019-01-01\", src=\"yahoo\", auto.assign = F)"
      ],
      "outputs": [
        {
          "output_type": "stream",
          "name": "stderr",
          "text": [
            "'getSymbols' currently uses auto.assign=TRUE by default, but will\n",
            "use auto.assign=FALSE in 0.5-0. You will still be able to use\n",
            "'loadSymbols' to automatically load data. getOption(\"getSymbols.env\")\n",
            "and getOption(\"getSymbols.auto.assign\") will still be checked for\n",
            "alternate defaults.\n",
            "\n",
            "This message is shown once per session and may be disabled by setting \n",
            "options(\"getSymbols.warning4.0\"=FALSE). See ?getSymbols for details.\n",
            "\n"
          ]
        }
      ],
      "execution_count": 10,
      "metadata": {
        "collapsed": false,
        "outputHidden": false,
        "inputHidden": false
      }
    },
    {
      "cell_type": "code",
      "source": [
        "head(aapl)"
      ],
      "outputs": [
        {
          "output_type": "display_data",
          "data": {
            "text/plain": [
              "           AAPL.Open AAPL.High AAPL.Low AAPL.Close AAPL.Volume AAPL.Adjusted\n",
              "2016-01-04    102.61    105.37   102.00     105.35    67649400      99.49911\n",
              "2016-01-05    105.75    105.85   102.41     102.71    55791000      97.00573\n",
              "2016-01-06    100.56    102.37    99.87     100.70    68457400      95.10736\n",
              "2016-01-07     98.68    100.13    96.43      96.45    81094400      91.09340\n",
              "2016-01-08     98.55     99.11    96.76      96.96    70798000      91.57507\n",
              "2016-01-11     98.97     99.06    97.34      98.53    49739400      93.05787"
            ]
          },
          "metadata": {}
        }
      ],
      "execution_count": 11,
      "metadata": {
        "collapsed": false,
        "outputHidden": false,
        "inputHidden": false
      }
    },
    {
      "cell_type": "markdown",
      "source": [
        "## Quandl "
      ],
      "metadata": {}
    },
    {
      "cell_type": "markdown",
      "source": [
        "### install.packages('Quandl')"
      ],
      "metadata": {}
    },
    {
      "cell_type": "code",
      "source": [
        "library(Quandl)"
      ],
      "outputs": [
        {
          "output_type": "stream",
          "name": "stderr",
          "text": [
            "Warning message:\n",
            "\"package 'Quandl' was built under R version 3.5.3\""
          ]
        }
      ],
      "execution_count": 12,
      "metadata": {
        "collapsed": false,
        "outputHidden": false,
        "inputHidden": false
      }
    },
    {
      "cell_type": "code",
      "source": [
        "Quandl.api_key(\"zZN6fzhAQD1x6pAKiHjs\") # Input your Key"
      ],
      "outputs": [],
      "execution_count": 13,
      "metadata": {
        "collapsed": false,
        "outputHidden": false,
        "inputHidden": false
      }
    },
    {
      "cell_type": "code",
      "source": [
        "aapl <- Quandl(\"WIKI/AAPL\", type=\"xts\")"
      ],
      "outputs": [],
      "execution_count": 14,
      "metadata": {
        "collapsed": false,
        "outputHidden": false,
        "inputHidden": false
      }
    },
    {
      "cell_type": "code",
      "source": [
        "head(aapl)"
      ],
      "outputs": [
        {
          "output_type": "display_data",
          "data": {
            "text/plain": [
              "            Open  High   Low Close  Volume Ex-Dividend Split Ratio Adj. Open\n",
              "1980-12-12 28.75 28.87 28.75 28.75 2093900           0           1 0.4227059\n",
              "1980-12-15 27.38 27.38 27.25 27.25  785200           0           1 0.4025631\n",
              "1980-12-16 25.37 25.37 25.25 25.25  472000           0           1 0.3730104\n",
              "1980-12-17 25.87 26.00 25.87 25.87  385900           0           1 0.3803618\n",
              "1980-12-18 26.63 26.75 26.63 26.63  327900           0           1 0.3915359\n",
              "1980-12-19 28.25 28.38 28.25 28.25  217100           0           1 0.4153545\n",
              "           Adj. High  Adj. Low Adj. Close Adj. Volume\n",
              "1980-12-12 0.4244703 0.4227059  0.4227059   117258400\n",
              "1980-12-15 0.4025631 0.4006517  0.4006517    43971200\n",
              "1980-12-16 0.3730104 0.3712461  0.3712461    26432000\n",
              "1980-12-17 0.3822732 0.3803618  0.3803618    21610400\n",
              "1980-12-18 0.3933003 0.3915359  0.3915359    18362400\n",
              "1980-12-19 0.4172659 0.4153545  0.4153545    12157600"
            ]
          },
          "metadata": {}
        }
      ],
      "execution_count": 15,
      "metadata": {
        "collapsed": false,
        "outputHidden": false,
        "inputHidden": false
      }
    },
    {
      "cell_type": "markdown",
      "source": [
        "## BatchGetSymbols"
      ],
      "metadata": {}
    },
    {
      "cell_type": "markdown",
      "source": [
        "### install.packages('BatchGetSymbols')"
      ],
      "metadata": {}
    },
    {
      "cell_type": "code",
      "source": [
        "library(BatchGetSymbols)"
      ],
      "outputs": [
        {
          "output_type": "stream",
          "name": "stderr",
          "text": [
            "Warning message:\n",
            "\"package 'BatchGetSymbols' was built under R version 3.5.3\"Loading required package: rvest\n",
            "Warning message:\n",
            "\"package 'rvest' was built under R version 3.5.3\"Loading required package: xml2\n",
            "Warning message:\n",
            "\"package 'xml2' was built under R version 3.5.3\"Loading required package: dplyr\n",
            "Warning message:\n",
            "\"package 'dplyr' was built under R version 3.5.3\"\n",
            "Attaching package: 'dplyr'\n",
            "\n",
            "The following objects are masked from 'package:xts':\n",
            "\n",
            "    first, last\n",
            "\n",
            "The following objects are masked from 'package:data.table':\n",
            "\n",
            "    between, first, last\n",
            "\n",
            "The following objects are masked from 'package:stats':\n",
            "\n",
            "    filter, lag\n",
            "\n",
            "The following objects are masked from 'package:base':\n",
            "\n",
            "    intersect, setdiff, setequal, union\n",
            "\n",
            "\n"
          ]
        }
      ],
      "execution_count": 16,
      "metadata": {
        "collapsed": false,
        "outputHidden": false,
        "inputHidden": false
      }
    },
    {
      "cell_type": "code",
      "source": [
        "aapl <- BatchGetSymbols(tickers = AAPL, \n",
        "                         first.date = \"2016-01-01\",\n",
        "                         last.date = \"2018-01-01\", \n",
        "                         freq.data = 'daily')"
      ],
      "outputs": [
        {
          "output_type": "error",
          "ename": "ERROR",
          "evalue": "Error in BatchGetSymbols(tickers = AAPL, first.date = \"2016-01-01\", last.date = \"2018-01-01\", : Google is no longer providing price data. You should be using YFinance\n",
          "traceback": [
            "Error in BatchGetSymbols(tickers = AAPL, first.date = \"2016-01-01\", last.date = \"2018-01-01\", : Google is no longer providing price data. You should be using YFinance\nTraceback:\n",
            "1. BatchGetSymbols(tickers = AAPL, first.date = \"2016-01-01\", last.date = \"2018-01-01\", \n .     freq.data = \"daily\")",
            "2. stop(my.msg)"
          ]
        }
      ],
      "execution_count": 17,
      "metadata": {
        "collapsed": false,
        "outputHidden": false,
        "inputHidden": false
      }
    },
    {
      "cell_type": "code",
      "source": [
        "head(aapl)"
      ],
      "outputs": [],
      "execution_count": null,
      "metadata": {
        "collapsed": false,
        "outputHidden": false,
        "inputHidden": false
      }
    },
    {
      "cell_type": "markdown",
      "source": [
        "## FinAna"
      ],
      "metadata": {}
    },
    {
      "cell_type": "markdown",
      "source": [
        "### install.packages('FinAna')"
      ],
      "metadata": {}
    },
    {
      "cell_type": "code",
      "source": [
        "library(FinAna)"
      ],
      "outputs": [],
      "execution_count": null,
      "metadata": {
        "collapsed": false,
        "outputHidden": false,
        "inputHidden": false
      }
    },
    {
      "cell_type": "code",
      "source": [
        "aapl <- get.price.yahoo('AAPL', bg = \"2016-01-01\",ed = \"2019-01-01\", f = \"d\")"
      ],
      "outputs": [],
      "execution_count": null,
      "metadata": {
        "collapsed": false,
        "outputHidden": false,
        "inputHidden": false
      }
    },
    {
      "cell_type": "code",
      "source": [
        "head(aapl)"
      ],
      "outputs": [],
      "execution_count": null,
      "metadata": {
        "collapsed": false,
        "outputHidden": false,
        "inputHidden": false
      }
    }
  ],
  "metadata": {
    "kernel_info": {
      "name": "ir"
    },
    "language_info": {
      "name": "R",
      "codemirror_mode": "r",
      "pygments_lexer": "r",
      "mimetype": "text/x-r-source",
      "file_extension": ".r",
      "version": "3.5.2"
    },
    "kernelspec": {
      "name": "ir",
      "language": "R",
      "display_name": "R"
    },
    "nteract": {
      "version": "0.14.0"
    }
  },
  "nbformat": 4,
  "nbformat_minor": 0
}