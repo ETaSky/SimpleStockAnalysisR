{
  "cells": [
    {
      "cell_type": "markdown",
      "source": [
        "# Simple Multiple Stocks"
      ],
      "metadata": {
        "nteract": {
          "transient": {
            "deleting": false
          }
        }
      }
    },
    {
      "cell_type": "code",
      "source": [
        "options(warn=-1) #Ignore Warning"
      ],
      "outputs": [],
      "execution_count": 1,
      "metadata": {
        "collapsed": true,
        "jupyter": {
          "source_hidden": false,
          "outputs_hidden": false
        },
        "nteract": {
          "transient": {
            "deleting": false
          }
        },
        "execution": {
          "iopub.status.busy": "2021-06-16T01:38:55.139Z",
          "iopub.execute_input": "2021-06-16T01:38:55.143Z",
          "iopub.status.idle": "2021-06-16T01:38:55.147Z",
          "shell.execute_reply": "2021-06-16T01:38:55.117Z"
        }
      }
    },
    {
      "cell_type": "code",
      "source": [
        "library(quantmod)"
      ],
      "outputs": [
        {
          "output_type": "stream",
          "name": "stderr",
          "text": [
            "Loading required package: xts\n",
            "Loading required package: zoo\n",
            "\n",
            "Attaching package: 'zoo'\n",
            "\n",
            "The following objects are masked from 'package:base':\n",
            "\n",
            "    as.Date, as.Date.numeric\n",
            "\n",
            "Loading required package: TTR\n",
            "Registered S3 method overwritten by 'quantmod':\n",
            "  method            from\n",
            "  as.zoo.data.frame zoo \n"
          ]
        }
      ],
      "execution_count": 2,
      "metadata": {
        "collapsed": true,
        "jupyter": {
          "source_hidden": false,
          "outputs_hidden": false
        },
        "nteract": {
          "transient": {
            "deleting": false
          }
        },
        "execution": {
          "iopub.status.busy": "2021-06-16T01:38:55.152Z",
          "iopub.execute_input": "2021-06-16T01:38:55.155Z",
          "iopub.status.idle": "2021-06-16T01:38:55.170Z",
          "shell.execute_reply": "2021-06-16T01:38:55.129Z"
        }
      }
    },
    {
      "cell_type": "code",
      "source": [
        "# Create new environment\n",
        "data_env <- new.env()\n",
        "# Use getSymbols to load data into the environment\n",
        "getSymbols(c(\"AAPL\", \"AMD\", \"INTC\", \"MSFT\"), env = data_env, auto.assign = TRUE)\n"
      ],
      "outputs": [
        {
          "output_type": "stream",
          "name": "stderr",
          "text": [
            "'getSymbols' currently uses auto.assign=TRUE by default, but will\n",
            "use auto.assign=FALSE in 0.5-0. You will still be able to use\n",
            "'loadSymbols' to automatically load data. getOption(\"getSymbols.env\")\n",
            "and getOption(\"getSymbols.auto.assign\") will still be checked for\n",
            "alternate defaults.\n",
            "\n",
            "This message is shown once per session and may be disabled by setting \n",
            "options(\"getSymbols.warning4.0\"=FALSE). See ?getSymbols for details.\n",
            "\n"
          ]
        },
        {
          "output_type": "display_data",
          "data": {
            "text/html": "<style>\n.list-inline {list-style: none; margin:0; padding: 0}\n.list-inline>li {display: inline-block}\n.list-inline>li:not(:last-child)::after {content: \"\\00b7\"; padding: 0 .5ex}\n</style>\n<ol class=list-inline><li>'AAPL'</li><li>'AMD'</li><li>'INTC'</li><li>'MSFT'</li></ol>\n",
            "text/markdown": "1. 'AAPL'\n2. 'AMD'\n3. 'INTC'\n4. 'MSFT'\n\n\n",
            "text/latex": "\\begin{enumerate*}\n\\item 'AAPL'\n\\item 'AMD'\n\\item 'INTC'\n\\item 'MSFT'\n\\end{enumerate*}\n",
            "text/plain": "[1] \"AAPL\" \"AMD\"  \"INTC\" \"MSFT\""
          },
          "metadata": {}
        }
      ],
      "execution_count": 3,
      "metadata": {
        "collapsed": true,
        "jupyter": {
          "source_hidden": false,
          "outputs_hidden": false
        },
        "nteract": {
          "transient": {
            "deleting": false
          }
        },
        "execution": {
          "iopub.status.busy": "2021-06-16T01:38:55.174Z",
          "iopub.execute_input": "2021-06-16T01:38:55.178Z",
          "iopub.status.idle": "2021-06-16T01:38:57.204Z",
          "shell.execute_reply": "2021-06-16T01:38:57.278Z"
        }
      }
    },
    {
      "cell_type": "code",
      "source": [
        "head(data_env$AAPL, 3)"
      ],
      "outputs": [
        {
          "output_type": "display_data",
          "data": {
            "text/plain": "           AAPL.Open AAPL.High AAPL.Low AAPL.Close AAPL.Volume AAPL.Adjusted\n2007-01-03  3.081786  3.092143 2.925000   2.992857  1238319600      2.573566\n2007-01-04  3.001786  3.069643 2.993571   3.059286   847260400      2.630688\n2007-01-05  3.063214  3.078571 3.014286   3.037500   834741600      2.611954"
          },
          "metadata": {}
        }
      ],
      "execution_count": 4,
      "metadata": {
        "collapsed": true,
        "jupyter": {
          "source_hidden": false,
          "outputs_hidden": false
        },
        "nteract": {
          "transient": {
            "deleting": false
          }
        },
        "execution": {
          "iopub.status.busy": "2021-06-16T01:38:57.209Z",
          "iopub.execute_input": "2021-06-16T01:38:57.212Z",
          "shell.execute_reply": "2021-06-16T01:38:57.282Z",
          "iopub.status.idle": "2021-06-16T01:38:57.222Z"
        }
      }
    },
    {
      "cell_type": "code",
      "source": [
        "eapply(data_env, head)"
      ],
      "outputs": [
        {
          "output_type": "display_data",
          "data": {
            "text/plain": "$AAPL\n           AAPL.Open AAPL.High AAPL.Low AAPL.Close AAPL.Volume AAPL.Adjusted\n2007-01-03  3.081786  3.092143 2.925000   2.992857  1238319600      2.573566\n2007-01-04  3.001786  3.069643 2.993571   3.059286   847260400      2.630688\n2007-01-05  3.063214  3.078571 3.014286   3.037500   834741600      2.611954\n2007-01-08  3.070000  3.090357 3.045714   3.052500   797106800      2.624853\n2007-01-09  3.087500  3.320714 3.041071   3.306071  3349298400      2.842900\n2007-01-10  3.383929  3.492857 3.337500   3.464286  2952880000      2.978950\n\n$AMD\n           AMD.Open AMD.High AMD.Low AMD.Close AMD.Volume AMD.Adjusted\n2007-01-03    20.08    20.40   19.35     19.52   28350300        19.52\n2007-01-04    19.66    19.86   19.32     19.79   23652500        19.79\n2007-01-05    19.54    19.91   19.54     19.71   15902400        19.71\n2007-01-08    19.71    19.86   19.37     19.47   15814800        19.47\n2007-01-09    19.45    19.71   19.37     19.65   14494200        19.65\n2007-01-10    19.64    20.02   19.50     20.01   19783200        20.01\n\n$MSFT\n           MSFT.Open MSFT.High MSFT.Low MSFT.Close MSFT.Volume MSFT.Adjusted\n2007-01-03     29.91     30.25    29.40      29.86    76935100      21.91154\n2007-01-04     29.70     29.97    29.44      29.81    45774500      21.87483\n2007-01-05     29.63     29.75    29.45      29.64    44607200      21.75009\n2007-01-08     29.65     30.10    29.53      29.93    50220200      21.96289\n2007-01-09     30.00     30.18    29.73      29.96    44636600      21.98492\n2007-01-10     29.80     29.89    29.43      29.66    55017400      21.76477\n\n$INTC\n           INTC.Open INTC.High INTC.Low INTC.Close INTC.Volume INTC.Adjusted\n2007-01-03     20.45     20.88    20.14      20.35    69001200      13.29359\n2007-01-04     20.63     21.33    20.56      21.17    88902300      13.82926\n2007-01-05     21.09     21.15    20.76      21.10    64550800      13.78353\n2007-01-08     21.25     21.34    20.95      21.01    52839100      13.72473\n2007-01-09     21.18     21.21    20.86      21.03    54381000      13.73780\n2007-01-10     21.09     21.62    21.03      21.52    76346900      14.05790\n"
          },
          "metadata": {}
        }
      ],
      "execution_count": 5,
      "metadata": {
        "collapsed": true,
        "jupyter": {
          "source_hidden": false,
          "outputs_hidden": false
        },
        "nteract": {
          "transient": {
            "deleting": false
          }
        },
        "execution": {
          "iopub.status.busy": "2021-06-16T01:38:57.227Z",
          "iopub.execute_input": "2021-06-16T01:38:57.231Z",
          "iopub.status.idle": "2021-06-16T01:38:57.239Z",
          "shell.execute_reply": "2021-06-16T01:38:57.286Z"
        }
      }
    },
    {
      "cell_type": "code",
      "source": [
        "# Call head on each object in data_env using eapply\n",
        "data_list <- eapply(data_env, head)"
      ],
      "outputs": [],
      "execution_count": 6,
      "metadata": {
        "collapsed": true,
        "jupyter": {
          "source_hidden": false,
          "outputs_hidden": false
        },
        "nteract": {
          "transient": {
            "deleting": false
          }
        },
        "execution": {
          "iopub.status.busy": "2021-06-16T01:38:57.244Z",
          "iopub.execute_input": "2021-06-16T01:38:57.248Z",
          "iopub.status.idle": "2021-06-16T01:38:57.256Z",
          "shell.execute_reply": "2021-06-16T01:38:57.288Z"
        }
      }
    },
    {
      "cell_type": "code",
      "source": [
        "# Merge all the list elements into one xts object\n",
        "data_merged <- do.call(merge, data_list)\n"
      ],
      "outputs": [],
      "execution_count": 7,
      "metadata": {
        "collapsed": true,
        "jupyter": {
          "source_hidden": false,
          "outputs_hidden": false
        },
        "nteract": {
          "transient": {
            "deleting": false
          }
        },
        "execution": {
          "shell.execute_reply": "2021-06-16T01:38:57.292Z",
          "iopub.status.busy": "2021-06-16T01:38:57.262Z",
          "iopub.execute_input": "2021-06-16T01:38:57.266Z",
          "iopub.status.idle": "2021-06-16T01:38:57.302Z"
        }
      }
    },
    {
      "cell_type": "code",
      "source": [
        "data_ohlc <- OHLC(data_merged)\n",
        "data_ohlc"
      ],
      "outputs": [
        {
          "output_type": "display_data",
          "data": {
            "text/plain": "           AAPL.Open AMD.Open MSFT.Open INTC.Open AAPL.High AMD.High MSFT.High\n2007-01-03  3.081786    20.08     29.91     20.45  3.092143    20.40     30.25\n2007-01-04  3.001786    19.66     29.70     20.63  3.069643    19.86     29.97\n2007-01-05  3.063214    19.54     29.63     21.09  3.078571    19.91     29.75\n2007-01-08  3.070000    19.71     29.65     21.25  3.090357    19.86     30.10\n2007-01-09  3.087500    19.45     30.00     21.18  3.320714    19.71     30.18\n2007-01-10  3.383929    19.64     29.80     21.09  3.492857    20.02     29.89\n           INTC.High AAPL.Low AMD.Low MSFT.Low INTC.Low AAPL.Close AMD.Close\n2007-01-03     20.88 2.925000   19.35    29.40    20.14   2.992857     19.52\n2007-01-04     21.33 2.993571   19.32    29.44    20.56   3.059286     19.79\n2007-01-05     21.15 3.014286   19.54    29.45    20.76   3.037500     19.71\n2007-01-08     21.34 3.045714   19.37    29.53    20.95   3.052500     19.47\n2007-01-09     21.21 3.041071   19.37    29.73    20.86   3.306071     19.65\n2007-01-10     21.62 3.337500   19.50    29.43    21.03   3.464286     20.01\n           MSFT.Close INTC.Close\n2007-01-03      29.86      20.35\n2007-01-04      29.81      21.17\n2007-01-05      29.64      21.10\n2007-01-08      29.93      21.01\n2007-01-09      29.96      21.03\n2007-01-10      29.66      21.52"
          },
          "metadata": {}
        }
      ],
      "execution_count": 8,
      "metadata": {
        "collapsed": true,
        "jupyter": {
          "source_hidden": false,
          "outputs_hidden": false
        },
        "nteract": {
          "transient": {
            "deleting": false
          }
        },
        "execution": {
          "iopub.status.busy": "2021-06-16T01:38:57.307Z",
          "iopub.execute_input": "2021-06-16T01:38:57.312Z",
          "iopub.status.idle": "2021-06-16T01:38:57.319Z",
          "shell.execute_reply": "2021-06-16T01:38:57.294Z"
        }
      }
    },
    {
      "cell_type": "code",
      "source": [
        "# Extract volume column from each object\n",
        "adjusted_list <- lapply(data_env, Ad)\n",
        "# Merge each list element into one object\n",
        "adjusted <- do.call(merge, adjusted_list)\n",
        "head(adjusted)"
      ],
      "outputs": [
        {
          "output_type": "display_data",
          "data": {
            "text/plain": "           AAPL.Adjusted AMD.Adjusted MSFT.Adjusted INTC.Adjusted\n2007-01-03      2.573566        19.52      21.91154      13.29359\n2007-01-04      2.630688        19.79      21.87483      13.82926\n2007-01-05      2.611954        19.71      21.75009      13.78353\n2007-01-08      2.624853        19.47      21.96289      13.72473\n2007-01-09      2.842900        19.65      21.98492      13.73780\n2007-01-10      2.978950        20.01      21.76477      14.05790"
          },
          "metadata": {}
        }
      ],
      "execution_count": 9,
      "metadata": {
        "collapsed": true,
        "jupyter": {
          "source_hidden": false,
          "outputs_hidden": false
        },
        "nteract": {
          "transient": {
            "deleting": false
          }
        },
        "execution": {
          "iopub.status.busy": "2021-06-16T01:38:57.325Z",
          "iopub.execute_input": "2021-06-16T01:38:57.330Z",
          "iopub.status.idle": "2021-06-16T01:38:57.339Z",
          "shell.execute_reply": "2021-06-16T01:38:57.368Z"
        }
      }
    },
    {
      "cell_type": "code",
      "source": [
        "plot(adjusted)\n",
        "title(\"Stocks Adjusted Close\")\n",
        "legend(x=\"top\", legend=colnames(adjusted))"
      ],
      "outputs": [
        {
          "output_type": "display_data",
          "data": {
            "text/plain": "Plot with title \"Stocks Adjusted Close\"",
            "image/png": "[encoded data removed]"
          },
          "metadata": {}
        }
      ],
      "execution_count": 10,
      "metadata": {
        "collapsed": true,
        "jupyter": {
          "source_hidden": false,
          "outputs_hidden": false
        },
        "nteract": {
          "transient": {
            "deleting": false
          }
        },
        "execution": {
          "iopub.status.busy": "2021-06-16T01:38:57.346Z",
          "iopub.execute_input": "2021-06-16T01:38:57.351Z",
          "iopub.status.idle": "2021-06-16T01:38:57.485Z",
          "shell.execute_reply": "2021-06-16T01:38:57.492Z"
        }
      }
    }
  ],
  "metadata": {
    "kernel_info": {
      "name": "python3"
    },
    "language_info": {
      "name": "R",
      "codemirror_mode": "r",
      "pygments_lexer": "r",
      "mimetype": "text/x-r-source",
      "file_extension": ".r",
      "version": "3.6.1"
    },
    "kernelspec": {
      "argv": [
        "C:/Users/Tin Hang/Anaconda3\\python.exe",
        "-m",
        "ipykernel_launcher",
        "-f",
        "{connection_file}"
      ],
      "display_name": "Python 3",
      "language": "python",
      "name": "python3"
    },
    "nteract": {
      "version": "0.28.0"
    }
  },
  "nbformat": 4,
  "nbformat_minor": 0
}